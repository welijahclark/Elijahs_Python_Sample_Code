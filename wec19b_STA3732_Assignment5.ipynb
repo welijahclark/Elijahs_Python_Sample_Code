{
 "cells": [
  {
   "cell_type": "markdown",
   "id": "f52b727f",
   "metadata": {},
   "source": [
    "#### wec19 STA 3732 Assignment 5 Notebook"
   ]
  },
  {
   "cell_type": "markdown",
   "id": "e8540005",
   "metadata": {},
   "source": [
    "# Problem 1 Tasks"
   ]
  },
  {
   "cell_type": "code",
   "execution_count": 9,
   "id": "34086bf2",
   "metadata": {},
   "outputs": [],
   "source": [
    "import pandas as pd"
   ]
  },
  {
   "cell_type": "markdown",
   "id": "e3f39bb0",
   "metadata": {},
   "source": [
    "### 1a."
   ]
  },
  {
   "cell_type": "code",
   "execution_count": 10,
   "id": "eda8fcf8",
   "metadata": {},
   "outputs": [
    {
     "data": {
      "text/plain": [
       "b    5.5\n",
       "c    4.2\n",
       "d    7.0\n",
       "f    0.6\n",
       "g    8.1\n",
       "dtype: float64"
      ]
     },
     "execution_count": 10,
     "metadata": {},
     "output_type": "execute_result"
    }
   ],
   "source": [
    "list_1a = [5.5, 4.2, 7.0, 0.6, 8.1]\n",
    "index_1a =  ['b', 'c', 'd', 'f', 'g']\n",
    "series_1a = pd.Series(list_1a, index_1a)\n",
    "series_1a"
   ]
  },
  {
   "cell_type": "markdown",
   "id": "353c4711",
   "metadata": {},
   "source": [
    "### 1b."
   ]
  },
  {
   "cell_type": "code",
   "execution_count": 11,
   "id": "13bfb330",
   "metadata": {},
   "outputs": [
    {
     "name": "stdout",
     "output_type": "stream",
     "text": [
      "b    5.5\n",
      "c    4.2\n",
      "d    7.0\n",
      "f    0.6\n",
      "g    8.1\n",
      "z   -1.0\n",
      "dtype: float64\n"
     ]
    }
   ],
   "source": [
    "series_1b = series_1a\n",
    "series_1b[\"z\"] = -1.0\n",
    "print(series_1b)"
   ]
  },
  {
   "cell_type": "code",
   "execution_count": 12,
   "id": "e2cb8dcf",
   "metadata": {},
   "outputs": [
    {
     "name": "stdout",
     "output_type": "stream",
     "text": [
      "b    5.5\n",
      "c    4.2\n",
      "d    7.0\n",
      "f    2.6\n",
      "g    8.1\n",
      "z   -1.0\n",
      "dtype: float64\n"
     ]
    }
   ],
   "source": [
    "series_1b2 = series_1b\n",
    "series_1b2[\"f\"] = 2.6\n",
    "print(series_1b2)"
   ]
  },
  {
   "cell_type": "markdown",
   "id": "b4c56d4a",
   "metadata": {},
   "source": [
    "### 1c."
   ]
  },
  {
   "cell_type": "code",
   "execution_count": 13,
   "id": "1da97465",
   "metadata": {},
   "outputs": [
    {
     "data": {
      "text/plain": [
       "(221, 7)"
      ]
     },
     "execution_count": 13,
     "metadata": {},
     "output_type": "execute_result"
    }
   ],
   "source": [
    "Cars = pd.read_csv(\"Car_Ins.csv\")\n",
    "Cars.shape"
   ]
  },
  {
   "cell_type": "markdown",
   "id": "244f295b",
   "metadata": {},
   "source": [
    "#### So, we appear to have a 221x7 matrix (i.e., 221 observations, 7 variables.)\n",
    "\n",
    "#### Our variables are specifically Make, Model, Collision, Property, Size, Doors, and Style, as seen below."
   ]
  },
  {
   "cell_type": "code",
   "execution_count": 14,
   "id": "fde3c72b",
   "metadata": {},
   "outputs": [
    {
     "data": {
      "text/html": [
       "<div>\n",
       "<style scoped>\n",
       "    .dataframe tbody tr th:only-of-type {\n",
       "        vertical-align: middle;\n",
       "    }\n",
       "\n",
       "    .dataframe tbody tr th {\n",
       "        vertical-align: top;\n",
       "    }\n",
       "\n",
       "    .dataframe thead th {\n",
       "        text-align: right;\n",
       "    }\n",
       "</style>\n",
       "<table border=\"1\" class=\"dataframe\">\n",
       "  <thead>\n",
       "    <tr style=\"text-align: right;\">\n",
       "      <th></th>\n",
       "      <th>Make</th>\n",
       "      <th>Model</th>\n",
       "      <th>Collision</th>\n",
       "      <th>Property</th>\n",
       "      <th>Size</th>\n",
       "      <th>Doors</th>\n",
       "      <th>Style</th>\n",
       "    </tr>\n",
       "  </thead>\n",
       "  <tbody>\n",
       "    <tr>\n",
       "      <th>0</th>\n",
       "      <td>Acura</td>\n",
       "      <td>TSX</td>\n",
       "      <td>105</td>\n",
       "      <td>84.0</td>\n",
       "      <td>Midsize</td>\n",
       "      <td>4</td>\n",
       "      <td>Standard</td>\n",
       "    </tr>\n",
       "    <tr>\n",
       "      <th>1</th>\n",
       "      <td>Chevrolet</td>\n",
       "      <td>Malibu</td>\n",
       "      <td>90</td>\n",
       "      <td>92.0</td>\n",
       "      <td>Midsize</td>\n",
       "      <td>4</td>\n",
       "      <td>Standard</td>\n",
       "    </tr>\n",
       "    <tr>\n",
       "      <th>2</th>\n",
       "      <td>Chrysler</td>\n",
       "      <td>200</td>\n",
       "      <td>57</td>\n",
       "      <td>39.0</td>\n",
       "      <td>Midsize</td>\n",
       "      <td>4</td>\n",
       "      <td>Standard</td>\n",
       "    </tr>\n",
       "    <tr>\n",
       "      <th>3</th>\n",
       "      <td>Dodge</td>\n",
       "      <td>Avenger</td>\n",
       "      <td>109</td>\n",
       "      <td>127.0</td>\n",
       "      <td>Midsize</td>\n",
       "      <td>4</td>\n",
       "      <td>Standard</td>\n",
       "    </tr>\n",
       "    <tr>\n",
       "      <th>4</th>\n",
       "      <td>Ford</td>\n",
       "      <td>Fusion</td>\n",
       "      <td>99</td>\n",
       "      <td>88.0</td>\n",
       "      <td>Midsize</td>\n",
       "      <td>4</td>\n",
       "      <td>Standard</td>\n",
       "    </tr>\n",
       "    <tr>\n",
       "      <th>5</th>\n",
       "      <td>Ford</td>\n",
       "      <td>Fusion 4WD</td>\n",
       "      <td>112</td>\n",
       "      <td>81.0</td>\n",
       "      <td>Midsize</td>\n",
       "      <td>4</td>\n",
       "      <td>Standard</td>\n",
       "    </tr>\n",
       "    <tr>\n",
       "      <th>6</th>\n",
       "      <td>Ford</td>\n",
       "      <td>Fusion hybrid</td>\n",
       "      <td>125</td>\n",
       "      <td>95.0</td>\n",
       "      <td>Midsize</td>\n",
       "      <td>4</td>\n",
       "      <td>Standard</td>\n",
       "    </tr>\n",
       "    <tr>\n",
       "      <th>7</th>\n",
       "      <td>Honda</td>\n",
       "      <td>Accord</td>\n",
       "      <td>81</td>\n",
       "      <td>85.0</td>\n",
       "      <td>Midsize</td>\n",
       "      <td>4</td>\n",
       "      <td>Standard</td>\n",
       "    </tr>\n",
       "    <tr>\n",
       "      <th>8</th>\n",
       "      <td>Hyundai</td>\n",
       "      <td>Sonata</td>\n",
       "      <td>103</td>\n",
       "      <td>84.0</td>\n",
       "      <td>Midsize</td>\n",
       "      <td>4</td>\n",
       "      <td>Standard</td>\n",
       "    </tr>\n",
       "    <tr>\n",
       "      <th>9</th>\n",
       "      <td>Kia</td>\n",
       "      <td>Optima</td>\n",
       "      <td>88</td>\n",
       "      <td>75.0</td>\n",
       "      <td>Midsize</td>\n",
       "      <td>4</td>\n",
       "      <td>Standard</td>\n",
       "    </tr>\n",
       "    <tr>\n",
       "      <th>10</th>\n",
       "      <td>Mazda</td>\n",
       "      <td>6</td>\n",
       "      <td>93</td>\n",
       "      <td>105.0</td>\n",
       "      <td>Midsize</td>\n",
       "      <td>4</td>\n",
       "      <td>Standard</td>\n",
       "    </tr>\n",
       "    <tr>\n",
       "      <th>11</th>\n",
       "      <td>Mercury</td>\n",
       "      <td>Milan</td>\n",
       "      <td>102</td>\n",
       "      <td>95.0</td>\n",
       "      <td>Midsize</td>\n",
       "      <td>4</td>\n",
       "      <td>Standard</td>\n",
       "    </tr>\n",
       "    <tr>\n",
       "      <th>12</th>\n",
       "      <td>Mercury</td>\n",
       "      <td>Milan 4WD</td>\n",
       "      <td>120</td>\n",
       "      <td>95.0</td>\n",
       "      <td>Midsize</td>\n",
       "      <td>4</td>\n",
       "      <td>Standard</td>\n",
       "    </tr>\n",
       "    <tr>\n",
       "      <th>13</th>\n",
       "      <td>Mercury</td>\n",
       "      <td>Milan hybrid</td>\n",
       "      <td>122</td>\n",
       "      <td>119.0</td>\n",
       "      <td>Midsize</td>\n",
       "      <td>4</td>\n",
       "      <td>Standard</td>\n",
       "    </tr>\n",
       "    <tr>\n",
       "      <th>14</th>\n",
       "      <td>Mitsubishi</td>\n",
       "      <td>Galant</td>\n",
       "      <td>119</td>\n",
       "      <td>134.0</td>\n",
       "      <td>Midsize</td>\n",
       "      <td>4</td>\n",
       "      <td>Standard</td>\n",
       "    </tr>\n",
       "    <tr>\n",
       "      <th>15</th>\n",
       "      <td>Nissan</td>\n",
       "      <td>Altima</td>\n",
       "      <td>107</td>\n",
       "      <td>90.0</td>\n",
       "      <td>Midsize</td>\n",
       "      <td>4</td>\n",
       "      <td>Standard</td>\n",
       "    </tr>\n",
       "    <tr>\n",
       "      <th>16</th>\n",
       "      <td>Nissan</td>\n",
       "      <td>Altima hybrid</td>\n",
       "      <td>109</td>\n",
       "      <td>96.0</td>\n",
       "      <td>Midsize</td>\n",
       "      <td>4</td>\n",
       "      <td>Standard</td>\n",
       "    </tr>\n",
       "    <tr>\n",
       "      <th>17</th>\n",
       "      <td>Nissan</td>\n",
       "      <td>Maxima</td>\n",
       "      <td>131</td>\n",
       "      <td>89.0</td>\n",
       "      <td>Midsize</td>\n",
       "      <td>4</td>\n",
       "      <td>Standard</td>\n",
       "    </tr>\n",
       "    <tr>\n",
       "      <th>18</th>\n",
       "      <td>Subaru</td>\n",
       "      <td>Legacy 4WD</td>\n",
       "      <td>86</td>\n",
       "      <td>70.0</td>\n",
       "      <td>Midsize</td>\n",
       "      <td>4</td>\n",
       "      <td>Standard</td>\n",
       "    </tr>\n",
       "    <tr>\n",
       "      <th>19</th>\n",
       "      <td>Suzuki</td>\n",
       "      <td>Kizashi</td>\n",
       "      <td>136</td>\n",
       "      <td>NaN</td>\n",
       "      <td>Midsize</td>\n",
       "      <td>4</td>\n",
       "      <td>Standard</td>\n",
       "    </tr>\n",
       "  </tbody>\n",
       "</table>\n",
       "</div>"
      ],
      "text/plain": [
       "          Make           Model  Collision  Property     Size  Doors     Style\n",
       "0        Acura             TSX        105      84.0  Midsize      4  Standard\n",
       "1    Chevrolet          Malibu         90      92.0  Midsize      4  Standard\n",
       "2     Chrysler             200         57      39.0  Midsize      4  Standard\n",
       "3        Dodge         Avenger        109     127.0  Midsize      4  Standard\n",
       "4         Ford          Fusion         99      88.0  Midsize      4  Standard\n",
       "5         Ford      Fusion 4WD        112      81.0  Midsize      4  Standard\n",
       "6         Ford   Fusion hybrid        125      95.0  Midsize      4  Standard\n",
       "7        Honda          Accord         81      85.0  Midsize      4  Standard\n",
       "8      Hyundai          Sonata        103      84.0  Midsize      4  Standard\n",
       "9          Kia          Optima         88      75.0  Midsize      4  Standard\n",
       "10       Mazda               6         93     105.0  Midsize      4  Standard\n",
       "11     Mercury           Milan        102      95.0  Midsize      4  Standard\n",
       "12     Mercury       Milan 4WD        120      95.0  Midsize      4  Standard\n",
       "13     Mercury    Milan hybrid        122     119.0  Midsize      4  Standard\n",
       "14  Mitsubishi          Galant        119     134.0  Midsize      4  Standard\n",
       "15      Nissan          Altima        107      90.0  Midsize      4  Standard\n",
       "16      Nissan   Altima hybrid        109      96.0  Midsize      4  Standard\n",
       "17      Nissan          Maxima        131      89.0  Midsize      4  Standard\n",
       "18      Subaru      Legacy 4WD         86      70.0  Midsize      4  Standard\n",
       "19      Suzuki         Kizashi        136       NaN  Midsize      4  Standard"
      ]
     },
     "execution_count": 14,
     "metadata": {},
     "output_type": "execute_result"
    }
   ],
   "source": [
    "Cars.head(20)"
   ]
  },
  {
   "cell_type": "markdown",
   "id": "0d0bf33f",
   "metadata": {},
   "source": [
    "### 1d."
   ]
  },
  {
   "cell_type": "code",
   "execution_count": 15,
   "id": "c12f3b34",
   "metadata": {},
   "outputs": [
    {
     "name": "stdout",
     "output_type": "stream",
     "text": [
      "<class 'pandas.core.frame.DataFrame'>\n",
      "RangeIndex: 221 entries, 0 to 220\n",
      "Data columns (total 7 columns):\n",
      " #   Column     Non-Null Count  Dtype  \n",
      "---  ------     --------------  -----  \n",
      " 0   Make       221 non-null    object \n",
      " 1   Model      221 non-null    object \n",
      " 2   Collision  221 non-null    int64  \n",
      " 3   Property   177 non-null    float64\n",
      " 4   Size       221 non-null    object \n",
      " 5   Doors      221 non-null    int64  \n",
      " 6   Style      221 non-null    object \n",
      "dtypes: float64(1), int64(2), object(4)\n",
      "memory usage: 12.2+ KB\n"
     ]
    }
   ],
   "source": [
    "Cars.info()"
   ]
  },
  {
   "cell_type": "markdown",
   "id": "43c3796c",
   "metadata": {},
   "source": [
    "#### We have some missing values present in the Property variable/column of our data. Therefore, we only have 177 complete datapoints."
   ]
  },
  {
   "cell_type": "code",
   "execution_count": 16,
   "id": "a792fbf0",
   "metadata": {},
   "outputs": [
    {
     "ename": "KeyError",
     "evalue": "'Damage'",
     "output_type": "error",
     "traceback": [
      "\u001b[1;31m---------------------------------------------------------------------------\u001b[0m",
      "\u001b[1;31mKeyError\u001b[0m                                  Traceback (most recent call last)",
      "File \u001b[1;32m~\\anaconda3\\lib\\site-packages\\pandas\\core\\indexes\\base.py:3802\u001b[0m, in \u001b[0;36mIndex.get_loc\u001b[1;34m(self, key, method, tolerance)\u001b[0m\n\u001b[0;32m   3801\u001b[0m \u001b[38;5;28;01mtry\u001b[39;00m:\n\u001b[1;32m-> 3802\u001b[0m     \u001b[38;5;28;01mreturn\u001b[39;00m \u001b[38;5;28;43mself\u001b[39;49m\u001b[38;5;241;43m.\u001b[39;49m\u001b[43m_engine\u001b[49m\u001b[38;5;241;43m.\u001b[39;49m\u001b[43mget_loc\u001b[49m\u001b[43m(\u001b[49m\u001b[43mcasted_key\u001b[49m\u001b[43m)\u001b[49m\n\u001b[0;32m   3803\u001b[0m \u001b[38;5;28;01mexcept\u001b[39;00m \u001b[38;5;167;01mKeyError\u001b[39;00m \u001b[38;5;28;01mas\u001b[39;00m err:\n",
      "File \u001b[1;32m~\\anaconda3\\lib\\site-packages\\pandas\\_libs\\index.pyx:138\u001b[0m, in \u001b[0;36mpandas._libs.index.IndexEngine.get_loc\u001b[1;34m()\u001b[0m\n",
      "File \u001b[1;32m~\\anaconda3\\lib\\site-packages\\pandas\\_libs\\index.pyx:165\u001b[0m, in \u001b[0;36mpandas._libs.index.IndexEngine.get_loc\u001b[1;34m()\u001b[0m\n",
      "File \u001b[1;32mpandas\\_libs\\hashtable_class_helper.pxi:5745\u001b[0m, in \u001b[0;36mpandas._libs.hashtable.PyObjectHashTable.get_item\u001b[1;34m()\u001b[0m\n",
      "File \u001b[1;32mpandas\\_libs\\hashtable_class_helper.pxi:5753\u001b[0m, in \u001b[0;36mpandas._libs.hashtable.PyObjectHashTable.get_item\u001b[1;34m()\u001b[0m\n",
      "\u001b[1;31mKeyError\u001b[0m: 'Damage'",
      "\nThe above exception was the direct cause of the following exception:\n",
      "\u001b[1;31mKeyError\u001b[0m                                  Traceback (most recent call last)",
      "Cell \u001b[1;32mIn[16], line 1\u001b[0m\n\u001b[1;32m----> 1\u001b[0m d1 \u001b[38;5;241m=\u001b[39m \u001b[43mCars\u001b[49m\u001b[38;5;241;43m.\u001b[39;49m\u001b[43mloc\u001b[49m\u001b[43m[\u001b[49m\u001b[38;5;241;43m25\u001b[39;49m\u001b[43m,\u001b[49m\u001b[38;5;124;43m'\u001b[39;49m\u001b[38;5;124;43mDamage\u001b[39;49m\u001b[38;5;124;43m'\u001b[39;49m\u001b[43m]\u001b[49m\n\u001b[0;32m      2\u001b[0m \u001b[38;5;28mprint\u001b[39m(d1)\n",
      "File \u001b[1;32m~\\anaconda3\\lib\\site-packages\\pandas\\core\\indexing.py:1066\u001b[0m, in \u001b[0;36m_LocationIndexer.__getitem__\u001b[1;34m(self, key)\u001b[0m\n\u001b[0;32m   1064\u001b[0m     key \u001b[38;5;241m=\u001b[39m \u001b[38;5;28mtuple\u001b[39m(com\u001b[38;5;241m.\u001b[39mapply_if_callable(x, \u001b[38;5;28mself\u001b[39m\u001b[38;5;241m.\u001b[39mobj) \u001b[38;5;28;01mfor\u001b[39;00m x \u001b[38;5;129;01min\u001b[39;00m key)\n\u001b[0;32m   1065\u001b[0m     \u001b[38;5;28;01mif\u001b[39;00m \u001b[38;5;28mself\u001b[39m\u001b[38;5;241m.\u001b[39m_is_scalar_access(key):\n\u001b[1;32m-> 1066\u001b[0m         \u001b[38;5;28;01mreturn\u001b[39;00m \u001b[38;5;28;43mself\u001b[39;49m\u001b[38;5;241;43m.\u001b[39;49m\u001b[43mobj\u001b[49m\u001b[38;5;241;43m.\u001b[39;49m\u001b[43m_get_value\u001b[49m\u001b[43m(\u001b[49m\u001b[38;5;241;43m*\u001b[39;49m\u001b[43mkey\u001b[49m\u001b[43m,\u001b[49m\u001b[43m \u001b[49m\u001b[43mtakeable\u001b[49m\u001b[38;5;241;43m=\u001b[39;49m\u001b[38;5;28;43mself\u001b[39;49m\u001b[38;5;241;43m.\u001b[39;49m\u001b[43m_takeable\u001b[49m\u001b[43m)\u001b[49m\n\u001b[0;32m   1067\u001b[0m     \u001b[38;5;28;01mreturn\u001b[39;00m \u001b[38;5;28mself\u001b[39m\u001b[38;5;241m.\u001b[39m_getitem_tuple(key)\n\u001b[0;32m   1068\u001b[0m \u001b[38;5;28;01melse\u001b[39;00m:\n\u001b[0;32m   1069\u001b[0m     \u001b[38;5;66;03m# we by definition only have the 0th axis\u001b[39;00m\n",
      "File \u001b[1;32m~\\anaconda3\\lib\\site-packages\\pandas\\core\\frame.py:3917\u001b[0m, in \u001b[0;36mDataFrame._get_value\u001b[1;34m(self, index, col, takeable)\u001b[0m\n\u001b[0;32m   3914\u001b[0m     series \u001b[38;5;241m=\u001b[39m \u001b[38;5;28mself\u001b[39m\u001b[38;5;241m.\u001b[39m_ixs(col, axis\u001b[38;5;241m=\u001b[39m\u001b[38;5;241m1\u001b[39m)\n\u001b[0;32m   3915\u001b[0m     \u001b[38;5;28;01mreturn\u001b[39;00m series\u001b[38;5;241m.\u001b[39m_values[index]\n\u001b[1;32m-> 3917\u001b[0m series \u001b[38;5;241m=\u001b[39m \u001b[38;5;28;43mself\u001b[39;49m\u001b[38;5;241;43m.\u001b[39;49m\u001b[43m_get_item_cache\u001b[49m\u001b[43m(\u001b[49m\u001b[43mcol\u001b[49m\u001b[43m)\u001b[49m\n\u001b[0;32m   3918\u001b[0m engine \u001b[38;5;241m=\u001b[39m \u001b[38;5;28mself\u001b[39m\u001b[38;5;241m.\u001b[39mindex\u001b[38;5;241m.\u001b[39m_engine\n\u001b[0;32m   3920\u001b[0m \u001b[38;5;28;01mif\u001b[39;00m \u001b[38;5;129;01mnot\u001b[39;00m \u001b[38;5;28misinstance\u001b[39m(\u001b[38;5;28mself\u001b[39m\u001b[38;5;241m.\u001b[39mindex, MultiIndex):\n\u001b[0;32m   3921\u001b[0m     \u001b[38;5;66;03m# CategoricalIndex: Trying to use the engine fastpath may give incorrect\u001b[39;00m\n\u001b[0;32m   3922\u001b[0m     \u001b[38;5;66;03m#  results if our categories are integers that dont match our codes\u001b[39;00m\n\u001b[0;32m   3923\u001b[0m     \u001b[38;5;66;03m# IntervalIndex: IntervalTree has no get_loc\u001b[39;00m\n",
      "File \u001b[1;32m~\\anaconda3\\lib\\site-packages\\pandas\\core\\frame.py:4282\u001b[0m, in \u001b[0;36mDataFrame._get_item_cache\u001b[1;34m(self, item)\u001b[0m\n\u001b[0;32m   4277\u001b[0m res \u001b[38;5;241m=\u001b[39m cache\u001b[38;5;241m.\u001b[39mget(item)\n\u001b[0;32m   4278\u001b[0m \u001b[38;5;28;01mif\u001b[39;00m res \u001b[38;5;129;01mis\u001b[39;00m \u001b[38;5;28;01mNone\u001b[39;00m:\n\u001b[0;32m   4279\u001b[0m     \u001b[38;5;66;03m# All places that call _get_item_cache have unique columns,\u001b[39;00m\n\u001b[0;32m   4280\u001b[0m     \u001b[38;5;66;03m#  pending resolution of GH#33047\u001b[39;00m\n\u001b[1;32m-> 4282\u001b[0m     loc \u001b[38;5;241m=\u001b[39m \u001b[38;5;28;43mself\u001b[39;49m\u001b[38;5;241;43m.\u001b[39;49m\u001b[43mcolumns\u001b[49m\u001b[38;5;241;43m.\u001b[39;49m\u001b[43mget_loc\u001b[49m\u001b[43m(\u001b[49m\u001b[43mitem\u001b[49m\u001b[43m)\u001b[49m\n\u001b[0;32m   4283\u001b[0m     res \u001b[38;5;241m=\u001b[39m \u001b[38;5;28mself\u001b[39m\u001b[38;5;241m.\u001b[39m_ixs(loc, axis\u001b[38;5;241m=\u001b[39m\u001b[38;5;241m1\u001b[39m)\n\u001b[0;32m   4285\u001b[0m     cache[item] \u001b[38;5;241m=\u001b[39m res\n",
      "File \u001b[1;32m~\\anaconda3\\lib\\site-packages\\pandas\\core\\indexes\\base.py:3804\u001b[0m, in \u001b[0;36mIndex.get_loc\u001b[1;34m(self, key, method, tolerance)\u001b[0m\n\u001b[0;32m   3802\u001b[0m     \u001b[38;5;28;01mreturn\u001b[39;00m \u001b[38;5;28mself\u001b[39m\u001b[38;5;241m.\u001b[39m_engine\u001b[38;5;241m.\u001b[39mget_loc(casted_key)\n\u001b[0;32m   3803\u001b[0m \u001b[38;5;28;01mexcept\u001b[39;00m \u001b[38;5;167;01mKeyError\u001b[39;00m \u001b[38;5;28;01mas\u001b[39;00m err:\n\u001b[1;32m-> 3804\u001b[0m     \u001b[38;5;28;01mraise\u001b[39;00m \u001b[38;5;167;01mKeyError\u001b[39;00m(key) \u001b[38;5;28;01mfrom\u001b[39;00m \u001b[38;5;21;01merr\u001b[39;00m\n\u001b[0;32m   3805\u001b[0m \u001b[38;5;28;01mexcept\u001b[39;00m \u001b[38;5;167;01mTypeError\u001b[39;00m:\n\u001b[0;32m   3806\u001b[0m     \u001b[38;5;66;03m# If we have a listlike key, _check_indexing_error will raise\u001b[39;00m\n\u001b[0;32m   3807\u001b[0m     \u001b[38;5;66;03m#  InvalidIndexError. Otherwise we fall through and re-raise\u001b[39;00m\n\u001b[0;32m   3808\u001b[0m     \u001b[38;5;66;03m#  the TypeError.\u001b[39;00m\n\u001b[0;32m   3809\u001b[0m     \u001b[38;5;28mself\u001b[39m\u001b[38;5;241m.\u001b[39m_check_indexing_error(key)\n",
      "\u001b[1;31mKeyError\u001b[0m: 'Damage'"
     ]
    }
   ],
   "source": [
    "d1 = Cars.loc[25,'Damage']\n",
    "print(d1)"
   ]
  },
  {
   "cell_type": "markdown",
   "id": "0d473404",
   "metadata": {},
   "source": [
    "#### Well...yes, we clearly do not have a Damage column, as shown above. I have to admit that the above output is absolutely gnarly, though."
   ]
  },
  {
   "cell_type": "code",
   "execution_count": 17,
   "id": "6e77fb89",
   "metadata": {},
   "outputs": [
    {
     "name": "stdout",
     "output_type": "stream",
     "text": [
      "         Make                        Model  Collision  Property     Size  \\\n",
      "144       BMW   3 series station wagon 4WD         88       NaN  Midsize   \n",
      "145       BMW                       M3 2dr        304      73.0  Midsize   \n",
      "146       BMW                       M3 4dr        247       NaN  Midsize   \n",
      "147       BMW               M3 convertible        231       NaN  Midsize   \n",
      "148  Infiniti                      G25 4dr         98       NaN  Midsize   \n",
      "149  Infiniti                  G25 4dr 4WD         92       NaN  Midsize   \n",
      "150  Infiniti                      G37 2dr        162      94.0  Midsize   \n",
      "\n",
      "     Doors   Style  \n",
      "144      4  Luxury  \n",
      "145      2  Luxury  \n",
      "146      4  Luxury  \n",
      "147      2  Luxury  \n",
      "148      4  Luxury  \n",
      "149      4  Luxury  \n",
      "150      2  Luxury  \n"
     ]
    }
   ],
   "source": [
    "d2 = Cars.iloc[144:151]\n",
    "print(d2)"
   ]
  },
  {
   "cell_type": "markdown",
   "id": "9e48114e",
   "metadata": {},
   "source": [
    "#### As seen above, we have NaN entries present in rows 144, 146, 147, 148, and 149."
   ]
  },
  {
   "cell_type": "markdown",
   "id": "a040c77b",
   "metadata": {},
   "source": [
    "### 1e."
   ]
  },
  {
   "cell_type": "code",
   "execution_count": 18,
   "id": "f32a07ac",
   "metadata": {},
   "outputs": [
    {
     "data": {
      "text/html": [
       "<div>\n",
       "<style scoped>\n",
       "    .dataframe tbody tr th:only-of-type {\n",
       "        vertical-align: middle;\n",
       "    }\n",
       "\n",
       "    .dataframe tbody tr th {\n",
       "        vertical-align: top;\n",
       "    }\n",
       "\n",
       "    .dataframe thead th {\n",
       "        text-align: right;\n",
       "    }\n",
       "</style>\n",
       "<table border=\"1\" class=\"dataframe\">\n",
       "  <thead>\n",
       "    <tr style=\"text-align: right;\">\n",
       "      <th></th>\n",
       "      <th>Collision</th>\n",
       "      <th>Property</th>\n",
       "      <th>Doors</th>\n",
       "    </tr>\n",
       "  </thead>\n",
       "  <tbody>\n",
       "    <tr>\n",
       "      <th>count</th>\n",
       "      <td>221.000000</td>\n",
       "      <td>177.000000</td>\n",
       "      <td>221.000000</td>\n",
       "    </tr>\n",
       "    <tr>\n",
       "      <th>mean</th>\n",
       "      <td>143.719457</td>\n",
       "      <td>88.000000</td>\n",
       "      <td>3.303167</td>\n",
       "    </tr>\n",
       "    <tr>\n",
       "      <th>std</th>\n",
       "      <td>70.890973</td>\n",
       "      <td>20.851204</td>\n",
       "      <td>0.955101</td>\n",
       "    </tr>\n",
       "    <tr>\n",
       "      <th>min</th>\n",
       "      <td>56.000000</td>\n",
       "      <td>23.000000</td>\n",
       "      <td>2.000000</td>\n",
       "    </tr>\n",
       "    <tr>\n",
       "      <th>25%</th>\n",
       "      <td>105.000000</td>\n",
       "      <td>78.000000</td>\n",
       "      <td>2.000000</td>\n",
       "    </tr>\n",
       "    <tr>\n",
       "      <th>50%</th>\n",
       "      <td>127.000000</td>\n",
       "      <td>88.000000</td>\n",
       "      <td>4.000000</td>\n",
       "    </tr>\n",
       "    <tr>\n",
       "      <th>75%</th>\n",
       "      <td>166.000000</td>\n",
       "      <td>100.000000</td>\n",
       "      <td>4.000000</td>\n",
       "    </tr>\n",
       "    <tr>\n",
       "      <th>max</th>\n",
       "      <td>748.000000</td>\n",
       "      <td>165.000000</td>\n",
       "      <td>4.000000</td>\n",
       "    </tr>\n",
       "  </tbody>\n",
       "</table>\n",
       "</div>"
      ],
      "text/plain": [
       "        Collision    Property       Doors\n",
       "count  221.000000  177.000000  221.000000\n",
       "mean   143.719457   88.000000    3.303167\n",
       "std     70.890973   20.851204    0.955101\n",
       "min     56.000000   23.000000    2.000000\n",
       "25%    105.000000   78.000000    2.000000\n",
       "50%    127.000000   88.000000    4.000000\n",
       "75%    166.000000  100.000000    4.000000\n",
       "max    748.000000  165.000000    4.000000"
      ]
     },
     "execution_count": 18,
     "metadata": {},
     "output_type": "execute_result"
    }
   ],
   "source": [
    "Cars.describe()"
   ]
  },
  {
   "cell_type": "markdown",
   "id": "24c43d87",
   "metadata": {},
   "source": [
    "#### The Interquartile Range for Collision is as follows: \n",
    "\n",
    "#### Min - 56.0\n",
    "\n",
    "#### 25% = 105.0\n",
    "\n",
    "#### 50% = 127.0\n",
    "\n",
    "#### 75% = 166.0\n",
    "\n",
    "#### Max = 748.0"
   ]
  },
  {
   "cell_type": "code",
   "execution_count": 19,
   "id": "b6cc509c",
   "metadata": {},
   "outputs": [
    {
     "data": {
      "text/html": [
       "<div>\n",
       "<style scoped>\n",
       "    .dataframe tbody tr th:only-of-type {\n",
       "        vertical-align: middle;\n",
       "    }\n",
       "\n",
       "    .dataframe tbody tr th {\n",
       "        vertical-align: top;\n",
       "    }\n",
       "\n",
       "    .dataframe thead th {\n",
       "        text-align: right;\n",
       "    }\n",
       "</style>\n",
       "<table border=\"1\" class=\"dataframe\">\n",
       "  <thead>\n",
       "    <tr style=\"text-align: right;\">\n",
       "      <th></th>\n",
       "      <th>Make</th>\n",
       "      <th>Model</th>\n",
       "      <th>Size</th>\n",
       "      <th>Style</th>\n",
       "    </tr>\n",
       "  </thead>\n",
       "  <tbody>\n",
       "    <tr>\n",
       "      <th>count</th>\n",
       "      <td>221</td>\n",
       "      <td>221</td>\n",
       "      <td>221</td>\n",
       "      <td>221</td>\n",
       "    </tr>\n",
       "    <tr>\n",
       "      <th>unique</th>\n",
       "      <td>33</td>\n",
       "      <td>212</td>\n",
       "      <td>6</td>\n",
       "      <td>3</td>\n",
       "    </tr>\n",
       "    <tr>\n",
       "      <th>top</th>\n",
       "      <td>BMW</td>\n",
       "      <td>Altima</td>\n",
       "      <td>Midsize</td>\n",
       "      <td>Luxury</td>\n",
       "    </tr>\n",
       "    <tr>\n",
       "      <th>freq</th>\n",
       "      <td>20</td>\n",
       "      <td>2</td>\n",
       "      <td>98</td>\n",
       "      <td>94</td>\n",
       "    </tr>\n",
       "  </tbody>\n",
       "</table>\n",
       "</div>"
      ],
      "text/plain": [
       "       Make    Model     Size   Style\n",
       "count   221      221      221     221\n",
       "unique   33      212        6       3\n",
       "top     BMW   Altima  Midsize  Luxury\n",
       "freq     20        2       98      94"
      ]
     },
     "execution_count": 19,
     "metadata": {},
     "output_type": "execute_result"
    }
   ],
   "source": [
    "Cars.describe(include = object)"
   ]
  },
  {
   "cell_type": "code",
   "execution_count": 20,
   "id": "035634a1",
   "metadata": {},
   "outputs": [
    {
     "data": {
      "text/html": [
       "<div>\n",
       "<style scoped>\n",
       "    .dataframe tbody tr th:only-of-type {\n",
       "        vertical-align: middle;\n",
       "    }\n",
       "\n",
       "    .dataframe tbody tr th {\n",
       "        vertical-align: top;\n",
       "    }\n",
       "\n",
       "    .dataframe thead th {\n",
       "        text-align: right;\n",
       "    }\n",
       "</style>\n",
       "<table border=\"1\" class=\"dataframe\">\n",
       "  <thead>\n",
       "    <tr style=\"text-align: right;\">\n",
       "      <th>Size</th>\n",
       "      <th>Large</th>\n",
       "      <th>Micro</th>\n",
       "      <th>Midsize</th>\n",
       "      <th>Mini</th>\n",
       "      <th>Small</th>\n",
       "      <th>XLarge</th>\n",
       "    </tr>\n",
       "    <tr>\n",
       "      <th>Style</th>\n",
       "      <th></th>\n",
       "      <th></th>\n",
       "      <th></th>\n",
       "      <th></th>\n",
       "      <th></th>\n",
       "      <th></th>\n",
       "    </tr>\n",
       "  </thead>\n",
       "  <tbody>\n",
       "    <tr>\n",
       "      <th>Luxury</th>\n",
       "      <td>32</td>\n",
       "      <td>0</td>\n",
       "      <td>45</td>\n",
       "      <td>0</td>\n",
       "      <td>0</td>\n",
       "      <td>17</td>\n",
       "    </tr>\n",
       "    <tr>\n",
       "      <th>Sports</th>\n",
       "      <td>8</td>\n",
       "      <td>0</td>\n",
       "      <td>20</td>\n",
       "      <td>1</td>\n",
       "      <td>5</td>\n",
       "      <td>0</td>\n",
       "    </tr>\n",
       "    <tr>\n",
       "      <th>Standard</th>\n",
       "      <td>13</td>\n",
       "      <td>2</td>\n",
       "      <td>33</td>\n",
       "      <td>12</td>\n",
       "      <td>33</td>\n",
       "      <td>0</td>\n",
       "    </tr>\n",
       "  </tbody>\n",
       "</table>\n",
       "</div>"
      ],
      "text/plain": [
       "Size      Large  Micro  Midsize  Mini  Small  XLarge\n",
       "Style                                               \n",
       "Luxury       32      0       45     0      0      17\n",
       "Sports        8      0       20     1      5       0\n",
       "Standard     13      2       33    12     33       0"
      ]
     },
     "execution_count": 20,
     "metadata": {},
     "output_type": "execute_result"
    }
   ],
   "source": [
    "pd.crosstab(Cars[\"Style\"], Cars[\"Size\"])"
   ]
  },
  {
   "cell_type": "markdown",
   "id": "b772580a",
   "metadata": {},
   "source": [
    "### 1f."
   ]
  },
  {
   "cell_type": "code",
   "execution_count": 21,
   "id": "4182afcd",
   "metadata": {},
   "outputs": [
    {
     "name": "stdout",
     "output_type": "stream",
     "text": [
      "          Make                        Model  Collision  Property     Size  \\\n",
      "0        Acura                          TSX        105      84.0  Midsize   \n",
      "1    Chevrolet                       Malibu         90      92.0  Midsize   \n",
      "2     Chrysler                          200         57      39.0  Midsize   \n",
      "3        Dodge                      Avenger        109     127.0  Midsize   \n",
      "4         Ford                       Fusion         99      88.0  Midsize   \n",
      "..         ...                          ...        ...       ...      ...   \n",
      "216        BMW               Z4 convertible        108      78.0    Small   \n",
      "217   Mercedes   Benz SLK class convertible        182      71.0    Small   \n",
      "218    Porsche          Boxster convertible        121      45.0    Small   \n",
      "219    Porsche                   Cayman 2dr        129      64.0    Small   \n",
      "220      Mazda       MX-5 Miata convertible         75      47.0     Mini   \n",
      "\n",
      "     Doors     Style  \n",
      "0        4  Standard  \n",
      "1        4  Standard  \n",
      "2        4  Standard  \n",
      "3        4  Standard  \n",
      "4        4  Standard  \n",
      "..     ...       ...  \n",
      "216      2    Sports  \n",
      "217      2    Sports  \n",
      "218      2    Sports  \n",
      "219      2    Sports  \n",
      "220      2    Sports  \n",
      "\n",
      "[177 rows x 7 columns]\n"
     ]
    }
   ],
   "source": [
    "Cars_2 = Cars.dropna()\n",
    "print(Cars_2)"
   ]
  },
  {
   "cell_type": "markdown",
   "id": "70b78c65",
   "metadata": {},
   "source": [
    "#### Here, we only have 177 rows, which matches with our results from 1d."
   ]
  },
  {
   "cell_type": "code",
   "execution_count": 22,
   "id": "889268ee",
   "metadata": {},
   "outputs": [
    {
     "name": "stdout",
     "output_type": "stream",
     "text": [
      "        Make                  Model  Collision  Property    Size  Doors  \\\n",
      "173      BMW   7 series 4dr 4WD LWB        265      99.0  XLarge      4   \n",
      "174      BMW       7 series 4dr LWB        225      92.0  XLarge      4   \n",
      "175    Lexus             LS 460 4dr        171      87.0  XLarge      4   \n",
      "176    Lexus         LS 460 4dr 4WD        180     101.0  XLarge      4   \n",
      "179  Lincoln                MKS 4dr        127      84.0  XLarge      4   \n",
      "180  Lincoln            MKS 4dr 4WD        147     102.0  XLarge      4   \n",
      "181  Lincoln   MKS Ecoboost 4dr 4WD        205     103.0  XLarge      4   \n",
      "\n",
      "      Style  \n",
      "173  Luxury  \n",
      "174  Luxury  \n",
      "175  Luxury  \n",
      "176  Luxury  \n",
      "179  Luxury  \n",
      "180  Luxury  \n",
      "181  Luxury  \n"
     ]
    }
   ],
   "source": [
    "f2 = Cars_2.iloc[144:151]\n",
    "print(f2)"
   ]
  },
  {
   "cell_type": "markdown",
   "id": "a5d4f5d0",
   "metadata": {},
   "source": [
    "#### Well...row 144 is held by observation 173, so I PRESUME we don't have any NaN entries anymore."
   ]
  },
  {
   "cell_type": "markdown",
   "id": "a02f4052",
   "metadata": {},
   "source": [
    "### 1g."
   ]
  },
  {
   "cell_type": "code",
   "execution_count": 23,
   "id": "2f20b5cc",
   "metadata": {
    "scrolled": true
   },
   "outputs": [
    {
     "name": "stdout",
     "output_type": "stream",
     "text": [
      "88.0\n"
     ]
    }
   ],
   "source": [
    "med_prop = Cars[\"Property\"].median()\n",
    "Cars.fillna(med_prop, inplace = True)\n",
    "print(med_prop)"
   ]
  },
  {
   "cell_type": "markdown",
   "id": "ce19b08c",
   "metadata": {},
   "source": [
    "#### Note: I printed the median here just to check if it filled in below."
   ]
  },
  {
   "cell_type": "code",
   "execution_count": 24,
   "id": "d2c409c9",
   "metadata": {
    "scrolled": true
   },
   "outputs": [
    {
     "name": "stdout",
     "output_type": "stream",
     "text": [
      "         Make                        Model  Collision  Property     Size  \\\n",
      "144       BMW   3 series station wagon 4WD         88      88.0  Midsize   \n",
      "145       BMW                       M3 2dr        304      73.0  Midsize   \n",
      "146       BMW                       M3 4dr        247      88.0  Midsize   \n",
      "147       BMW               M3 convertible        231      88.0  Midsize   \n",
      "148  Infiniti                      G25 4dr         98      88.0  Midsize   \n",
      "149  Infiniti                  G25 4dr 4WD         92      88.0  Midsize   \n",
      "150  Infiniti                      G37 2dr        162      94.0  Midsize   \n",
      "\n",
      "     Doors   Style  \n",
      "144      4  Luxury  \n",
      "145      2  Luxury  \n",
      "146      4  Luxury  \n",
      "147      2  Luxury  \n",
      "148      4  Luxury  \n",
      "149      4  Luxury  \n",
      "150      2  Luxury  \n"
     ]
    }
   ],
   "source": [
    "g2 = Cars.iloc[144:151]\n",
    "print(g2)"
   ]
  },
  {
   "cell_type": "markdown",
   "id": "aec0f0df",
   "metadata": {},
   "source": [
    "#### Lo and behold: the NaNs are now replaced with 88.0!"
   ]
  },
  {
   "cell_type": "markdown",
   "id": "60a7cb36",
   "metadata": {},
   "source": [
    "### 1h."
   ]
  },
  {
   "cell_type": "code",
   "execution_count": 25,
   "id": "0ad08e65",
   "metadata": {},
   "outputs": [
    {
     "data": {
      "text/plain": [
       "Make                    Mitsubishi\n",
       "Model         Lancer Evolution 4WD\n",
       "Collision                      160\n",
       "Property                      88.0\n",
       "Size                         Small\n",
       "Doors                            4\n",
       "Style                     Standard\n",
       "Name: 51, dtype: object"
      ]
     },
     "execution_count": 25,
     "metadata": {},
     "output_type": "execute_result"
    }
   ],
   "source": [
    "for x in Cars.index:\n",
    "    if Cars.loc[x, \"Collision\"] > 250:\n",
    "        Cars.loc[x, \"Collision\"] = 160\n",
    "        \n",
    "Cars.loc[51]"
   ]
  },
  {
   "cell_type": "markdown",
   "id": "16ff0518",
   "metadata": {},
   "source": [
    "#### Yes, we have changed the value here."
   ]
  },
  {
   "cell_type": "markdown",
   "id": "ab2c8157",
   "metadata": {},
   "source": [
    "# Problem 2 Tasks"
   ]
  },
  {
   "cell_type": "markdown",
   "id": "10f94bff",
   "metadata": {},
   "source": [
    "### 2a."
   ]
  },
  {
   "cell_type": "code",
   "execution_count": 26,
   "id": "3316deba",
   "metadata": {},
   "outputs": [
    {
     "name": "stdout",
     "output_type": "stream",
     "text": [
      "a is long\n"
     ]
    }
   ],
   "source": [
    "a = ('statistically')    \n",
    "\n",
    "for x in a:\n",
    "    if len(a) > 10:\n",
    "        print(\"a is long\")\n",
    "        break\n",
    "    elif len(a) <= 10 and len(a) >=5:\n",
    "        print(\"a is medium length\")\n",
    "        break\n",
    "    else:\n",
    "        print(\"a is short\")\n",
    "        break"
   ]
  },
  {
   "cell_type": "markdown",
   "id": "ed2161d6",
   "metadata": {},
   "source": [
    "### 2b."
   ]
  },
  {
   "cell_type": "code",
   "execution_count": 27,
   "id": "bed60435",
   "metadata": {},
   "outputs": [
    {
     "name": "stdout",
     "output_type": "stream",
     "text": [
      "a is medium length\n"
     ]
    }
   ],
   "source": [
    "a = ('statistics')    \n",
    "\n",
    "for x in a:\n",
    "    if len(a) > 10:\n",
    "        print(\"a is long\")\n",
    "        break\n",
    "    elif len(a) <= 10 and len(a) >=5:\n",
    "        print(\"a is medium length\")\n",
    "        break\n",
    "    else:\n",
    "        print(\"a is short\")\n",
    "        break"
   ]
  },
  {
   "cell_type": "code",
   "execution_count": 28,
   "id": "a03fe528",
   "metadata": {},
   "outputs": [
    {
     "name": "stdout",
     "output_type": "stream",
     "text": [
      "a is short\n"
     ]
    }
   ],
   "source": [
    "a = ('stat')    \n",
    "\n",
    "for x in a:\n",
    "    if len(a) > 10:\n",
    "        print(\"a is long\")\n",
    "        break\n",
    "    elif len(a) <= 10 and len(a) >=5:\n",
    "        print(\"a is medium length\")\n",
    "        break\n",
    "    else:\n",
    "        print(\"a is short\")\n",
    "        break"
   ]
  },
  {
   "cell_type": "markdown",
   "id": "6056b76b",
   "metadata": {},
   "source": [
    "### 2c."
   ]
  },
  {
   "cell_type": "code",
   "execution_count": 29,
   "id": "d2cfebf7",
   "metadata": {},
   "outputs": [
    {
     "name": "stdout",
     "output_type": "stream",
     "text": [
      "3 is odd\n",
      "6 is even\n",
      "9 is odd\n",
      "12 is even\n",
      "15 is odd\n",
      "18 is even\n",
      "21 is odd\n"
     ]
    }
   ],
   "source": [
    "mod2 = lambda x : x % 2\n",
    "for n in range(3, 24, 3):\n",
    "    if mod2(n) == 0:\n",
    "        print(n, \"is even\")\n",
    "    else:\n",
    "        print(n, \"is odd\")"
   ]
  },
  {
   "cell_type": "markdown",
   "id": "60821402",
   "metadata": {},
   "source": [
    "### 2d."
   ]
  },
  {
   "cell_type": "code",
   "execution_count": 30,
   "id": "b7708e99",
   "metadata": {},
   "outputs": [],
   "source": [
    "import numpy as np"
   ]
  },
  {
   "cell_type": "code",
   "execution_count": 31,
   "id": "d268b446",
   "metadata": {},
   "outputs": [
    {
     "name": "stdout",
     "output_type": "stream",
     "text": [
      "9.000000000000002\n",
      "24.999999999999996\n",
      "48.99999999999999\n",
      "81.00000000000003\n",
      "121.00000000000003\n"
     ]
    }
   ],
   "source": [
    "mod2 = lambda x : x % 2\n",
    "list_2d = [9, 25, 49, 81, 121]\n",
    "\n",
    "for x in list_2d:\n",
    "    output = np.exp(np.log(x))\n",
    "    print(output)"
   ]
  },
  {
   "cell_type": "markdown",
   "id": "80028873",
   "metadata": {},
   "source": [
    "# Problem 3 Tasks"
   ]
  },
  {
   "cell_type": "code",
   "execution_count": 32,
   "id": "4c694ac9",
   "metadata": {},
   "outputs": [],
   "source": [
    "import pandas as pd\n",
    "import scipy.stats as st\n",
    "import numpy as np"
   ]
  },
  {
   "cell_type": "markdown",
   "id": "a76a7de7",
   "metadata": {},
   "source": [
    "### 3a."
   ]
  },
  {
   "cell_type": "code",
   "execution_count": 33,
   "id": "05ca8452",
   "metadata": {
    "scrolled": true
   },
   "outputs": [
    {
     "data": {
      "text/plain": [
       "(134.32138896493728, 153.11752506221205)"
      ]
     },
     "execution_count": 33,
     "metadata": {},
     "output_type": "execute_result"
    }
   ],
   "source": [
    "Cars = pd.read_csv(\"Car_Ins.csv\")\n",
    "\n",
    "xbar = Cars['Collision'].mean()\n",
    "dof = len(Cars['Collision'])-1\n",
    "se = st.sem(Cars['Collision'])\n",
    "\n",
    "st.t.interval(confidence = .95, df = dof, loc = xbar, scale = se)"
   ]
  },
  {
   "cell_type": "markdown",
   "id": "0d68c78e",
   "metadata": {},
   "source": [
    "### 3b."
   ]
  },
  {
   "cell_type": "code",
   "execution_count": 34,
   "id": "b43a6d7a",
   "metadata": {
    "scrolled": true
   },
   "outputs": [
    {
     "data": {
      "text/plain": [
       "TtestResult(statistic=-1.736456933612532, pvalue=0.041941462719035746, df=220)"
      ]
     },
     "execution_count": 34,
     "metadata": {},
     "output_type": "execute_result"
    }
   ],
   "source": [
    "st.ttest_1samp(Cars['Collision'], 152, alternative = 'less')"
   ]
  },
  {
   "cell_type": "markdown",
   "id": "ecbc9a08",
   "metadata": {},
   "source": [
    "#### As we all know, if the p is low, let it go...and considering that our p-value here is 0.041941462719035746, it's below our 0.05 threshold for a confidence level of 95%. Therefore, we can reject the null hypothesis and assume that the mean is less than 152."
   ]
  },
  {
   "cell_type": "markdown",
   "id": "2c232a35",
   "metadata": {},
   "source": [
    "# Problem 4 Tasks"
   ]
  },
  {
   "cell_type": "code",
   "execution_count": 60,
   "id": "0cc40380",
   "metadata": {},
   "outputs": [],
   "source": [
    "import pandas as pd\n",
    "import statsmodels.api as sm\n",
    "import seaborn as sns\n",
    "import matplotlib.pyplot as plt"
   ]
  },
  {
   "cell_type": "markdown",
   "id": "d1c6dee5",
   "metadata": {},
   "source": [
    "### 4a."
   ]
  },
  {
   "cell_type": "code",
   "execution_count": 36,
   "id": "0098909f",
   "metadata": {},
   "outputs": [
    {
     "data": {
      "image/png": "[encoded data removed]",
      "text/plain": [
       "<Figure size 640x480 with 1 Axes>"
      ]
     },
     "metadata": {},
     "output_type": "display_data"
    }
   ],
   "source": [
    "Move = pd.read_csv(\"Movies_Data.csv\")\n",
    "sns.regplot(x= Move['TrailerViews'], y = Move['BoxOffice'])\n",
    "plt.show()"
   ]
  },
  {
   "cell_type": "markdown",
   "id": "e4310b16",
   "metadata": {},
   "source": [
    "#### As seen above, we have a notable correlation line, and the datapoints do seem to follow that pattern. The lower end and higher end of the range for TrailerViews seems to deviate a bit, however."
   ]
  },
  {
   "cell_type": "markdown",
   "id": "a18f0c76",
   "metadata": {},
   "source": [
    "### 4b."
   ]
  },
  {
   "cell_type": "code",
   "execution_count": 37,
   "id": "04d640fe",
   "metadata": {},
   "outputs": [
    {
     "name": "stdout",
     "output_type": "stream",
     "text": [
      "                            OLS Regression Results                            \n",
      "==============================================================================\n",
      "Dep. Variable:              BoxOffice   R-squared:                       0.470\n",
      "Model:                            OLS   Adj. R-squared:                  0.468\n",
      "No. Observations:                 426   F-statistic:                     375.5\n",
      "Covariance Type:            nonrobust   Prob (F-statistic):           2.27e-60\n",
      "================================================================================\n",
      "                   coef    std err          t      P>|t|      [0.025      0.975]\n",
      "--------------------------------------------------------------------------------\n",
      "const         -3.72e+04   4338.850     -8.574      0.000   -4.57e+04   -2.87e+04\n",
      "TrailerViews     0.1840      0.009     19.378      0.000       0.165       0.203\n",
      "================================================================================\n",
      "\n",
      "Notes:\n",
      "[1] Standard Errors assume that the covariance matrix of the errors is correctly specified.\n",
      "[2] The condition number is large,  3e+06. This might indicate that there are\n",
      "strong multicollinearity or other numerical problems.\n"
     ]
    }
   ],
   "source": [
    "x = Move['TrailerViews']\n",
    "y = Move['BoxOffice']\n",
    "\n",
    "x1 = sm.add_constant(x)\n",
    "\n",
    "MoveModel = sm.OLS(y, x1)\n",
    "\n",
    "results = MoveModel.fit()\n",
    "\n",
    "print(results.summary(slim = True))"
   ]
  },
  {
   "cell_type": "markdown",
   "id": "2ee0f7bf",
   "metadata": {},
   "source": [
    "#### In the above OLS regression, we have an R-squeare of 0.470...indicating that trailer views are not strongly correlated with box office profits. "
   ]
  },
  {
   "cell_type": "markdown",
   "id": "2ea403a8",
   "metadata": {},
   "source": [
    "### 4c."
   ]
  },
  {
   "cell_type": "code",
   "execution_count": 38,
   "id": "75ff222c",
   "metadata": {},
   "outputs": [
    {
     "data": {
      "text/html": [
       "<table class=\"simpletable\">\n",
       "<caption>OLS Regression Results</caption>\n",
       "<tr>\n",
       "  <th>Dep. Variable:</th>    <td>BoxOffice</td> <th>  R-squared:         </th> <td>   0.591</td>\n",
       "</tr>\n",
       "<tr>\n",
       "  <th>Model:</th>               <td>OLS</td>    <th>  Adj. R-squared:    </th> <td>   0.586</td>\n",
       "</tr>\n",
       "<tr>\n",
       "  <th>No. Observations:</th>  <td>   426</td>   <th>  F-statistic:       </th> <td>   121.3</td>\n",
       "</tr>\n",
       "<tr>\n",
       "  <th>Covariance Type:</th>  <td>nonrobust</td> <th>  Prob (F-statistic):</th> <td>3.25e-79</td>\n",
       "</tr>\n",
       "</table>\n",
       "<table class=\"simpletable\">\n",
       "<tr>\n",
       "         <td></td>           <th>coef</th>     <th>std err</th>      <th>t</th>      <th>P>|t|</th>  <th>[0.025</th>    <th>0.975]</th>  \n",
       "</tr>\n",
       "<tr>\n",
       "  <th>Intercept</th>      <td>-1.018e+05</td> <td> 1.05e+04</td> <td>   -9.737</td> <td> 0.000</td> <td>-1.22e+05</td> <td>-8.12e+04</td>\n",
       "</tr>\n",
       "<tr>\n",
       "  <th>Budget</th>         <td>    1.7397</td> <td>    0.174</td> <td>    9.988</td> <td> 0.000</td> <td>    1.397</td> <td>    2.082</td>\n",
       "</tr>\n",
       "<tr>\n",
       "  <th>ScreenCoverage</th> <td> 2.584e+04</td> <td> 7711.292</td> <td>    3.351</td> <td> 0.001</td> <td> 1.07e+04</td> <td>  4.1e+04</td>\n",
       "</tr>\n",
       "<tr>\n",
       "  <th>RunTime</th>        <td>  -36.3554</td> <td>   35.059</td> <td>   -1.037</td> <td> 0.300</td> <td> -105.268</td> <td>   32.558</td>\n",
       "</tr>\n",
       "<tr>\n",
       "  <th>TrailerViews</th>   <td>    0.1174</td> <td>    0.012</td> <td>    9.445</td> <td> 0.000</td> <td>    0.093</td> <td>    0.142</td>\n",
       "</tr>\n",
       "<tr>\n",
       "  <th>DirectorRating</th> <td> 3450.2376</td> <td>  860.198</td> <td>    4.011</td> <td> 0.000</td> <td> 1759.408</td> <td> 5141.067</td>\n",
       "</tr>\n",
       "</table><br/><br/>Notes:<br/>[1] Standard Errors assume that the covariance matrix of the errors is correctly specified.<br/>[2] The condition number is large, 9.23e+06. This might indicate that there are<br/>strong multicollinearity or other numerical problems."
      ],
      "text/plain": [
       "<class 'statsmodels.iolib.summary.Summary'>\n",
       "\"\"\"\n",
       "                            OLS Regression Results                            \n",
       "==============================================================================\n",
       "Dep. Variable:              BoxOffice   R-squared:                       0.591\n",
       "Model:                            OLS   Adj. R-squared:                  0.586\n",
       "No. Observations:                 426   F-statistic:                     121.3\n",
       "Covariance Type:            nonrobust   Prob (F-statistic):           3.25e-79\n",
       "==================================================================================\n",
       "                     coef    std err          t      P>|t|      [0.025      0.975]\n",
       "----------------------------------------------------------------------------------\n",
       "Intercept      -1.018e+05   1.05e+04     -9.737      0.000   -1.22e+05   -8.12e+04\n",
       "Budget             1.7397      0.174      9.988      0.000       1.397       2.082\n",
       "ScreenCoverage  2.584e+04   7711.292      3.351      0.001    1.07e+04     4.1e+04\n",
       "RunTime          -36.3554     35.059     -1.037      0.300    -105.268      32.558\n",
       "TrailerViews       0.1174      0.012      9.445      0.000       0.093       0.142\n",
       "DirectorRating  3450.2376    860.198      4.011      0.000    1759.408    5141.067\n",
       "==================================================================================\n",
       "\n",
       "Notes:\n",
       "[1] Standard Errors assume that the covariance matrix of the errors is correctly specified.\n",
       "[2] The condition number is large, 9.23e+06. This might indicate that there are\n",
       "strong multicollinearity or other numerical problems.\n",
       "\"\"\""
      ]
     },
     "execution_count": 38,
     "metadata": {},
     "output_type": "execute_result"
    }
   ],
   "source": [
    "import statsmodels.formula.api as smf\n",
    "\n",
    "multi_reg = smf.ols('BoxOffice ~ Budget + ScreenCoverage + RunTime + TrailerViews + DirectorRating', data = Move )\n",
    "mr_results = multi_reg.fit()\n",
    "mr_results.summary(slim = True)"
   ]
  },
  {
   "cell_type": "markdown",
   "id": "2b60e6ab",
   "metadata": {},
   "source": [
    "#### We NOW have an R-Square of 0.591, which would indicate that there's some more correlation with all of these predictor variables...although it only improved by about 0.13."
   ]
  },
  {
   "cell_type": "markdown",
   "id": "b57eccf1",
   "metadata": {},
   "source": [
    "### 4d."
   ]
  },
  {
   "cell_type": "code",
   "execution_count": 39,
   "id": "dc288d10",
   "metadata": {},
   "outputs": [
    {
     "data": {
      "text/html": [
       "<table class=\"simpletable\">\n",
       "<caption>OLS Regression Results</caption>\n",
       "<tr>\n",
       "  <th>Dep. Variable:</th>    <td>BoxOffice</td> <th>  R-squared:         </th> <td>   0.590</td>\n",
       "</tr>\n",
       "<tr>\n",
       "  <th>Model:</th>               <td>OLS</td>    <th>  Adj. R-squared:    </th> <td>   0.586</td>\n",
       "</tr>\n",
       "<tr>\n",
       "  <th>No. Observations:</th>  <td>   426</td>   <th>  F-statistic:       </th> <td>   151.4</td>\n",
       "</tr>\n",
       "<tr>\n",
       "  <th>Covariance Type:</th>  <td>nonrobust</td> <th>  Prob (F-statistic):</th> <td>4.23e-80</td>\n",
       "</tr>\n",
       "</table>\n",
       "<table class=\"simpletable\">\n",
       "<tr>\n",
       "         <td></td>           <th>coef</th>     <th>std err</th>      <th>t</th>      <th>P>|t|</th>  <th>[0.025</th>    <th>0.975]</th>  \n",
       "</tr>\n",
       "<tr>\n",
       "  <th>Intercept</th>      <td>-1.057e+05</td> <td> 9764.059</td> <td>  -10.822</td> <td> 0.000</td> <td>-1.25e+05</td> <td>-8.65e+04</td>\n",
       "</tr>\n",
       "<tr>\n",
       "  <th>Budget</th>         <td>    1.7163</td> <td>    0.173</td> <td>    9.936</td> <td> 0.000</td> <td>    1.377</td> <td>    2.056</td>\n",
       "</tr>\n",
       "<tr>\n",
       "  <th>ScreenCoverage</th> <td> 2.796e+04</td> <td> 7436.163</td> <td>    3.760</td> <td> 0.000</td> <td> 1.33e+04</td> <td> 4.26e+04</td>\n",
       "</tr>\n",
       "<tr>\n",
       "  <th>TrailerViews</th>   <td>    0.1217</td> <td>    0.012</td> <td>   10.357</td> <td> 0.000</td> <td>    0.099</td> <td>    0.145</td>\n",
       "</tr>\n",
       "<tr>\n",
       "  <th>DirectorRating</th> <td> 3036.0615</td> <td>  761.917</td> <td>    3.985</td> <td> 0.000</td> <td> 1538.426</td> <td> 4533.697</td>\n",
       "</tr>\n",
       "</table><br/><br/>Notes:<br/>[1] Standard Errors assume that the covariance matrix of the errors is correctly specified.<br/>[2] The condition number is large, 8.62e+06. This might indicate that there are<br/>strong multicollinearity or other numerical problems."
      ],
      "text/plain": [
       "<class 'statsmodels.iolib.summary.Summary'>\n",
       "\"\"\"\n",
       "                            OLS Regression Results                            \n",
       "==============================================================================\n",
       "Dep. Variable:              BoxOffice   R-squared:                       0.590\n",
       "Model:                            OLS   Adj. R-squared:                  0.586\n",
       "No. Observations:                 426   F-statistic:                     151.4\n",
       "Covariance Type:            nonrobust   Prob (F-statistic):           4.23e-80\n",
       "==================================================================================\n",
       "                     coef    std err          t      P>|t|      [0.025      0.975]\n",
       "----------------------------------------------------------------------------------\n",
       "Intercept      -1.057e+05   9764.059    -10.822      0.000   -1.25e+05   -8.65e+04\n",
       "Budget             1.7163      0.173      9.936      0.000       1.377       2.056\n",
       "ScreenCoverage  2.796e+04   7436.163      3.760      0.000    1.33e+04    4.26e+04\n",
       "TrailerViews       0.1217      0.012     10.357      0.000       0.099       0.145\n",
       "DirectorRating  3036.0615    761.917      3.985      0.000    1538.426    4533.697\n",
       "==================================================================================\n",
       "\n",
       "Notes:\n",
       "[1] Standard Errors assume that the covariance matrix of the errors is correctly specified.\n",
       "[2] The condition number is large, 8.62e+06. This might indicate that there are\n",
       "strong multicollinearity or other numerical problems.\n",
       "\"\"\""
      ]
     },
     "execution_count": 39,
     "metadata": {},
     "output_type": "execute_result"
    }
   ],
   "source": [
    "multi_reg4d = smf.ols('BoxOffice ~ Budget + ScreenCoverage + TrailerViews + DirectorRating', data = Move )\n",
    "mr_results4d = multi_reg4d.fit()\n",
    "mr_results4d.summary(slim = True)"
   ]
  },
  {
   "cell_type": "markdown",
   "id": "d2ad5a94",
   "metadata": {},
   "source": [
    "#### We now have an R-Square of 0.590, which is literally only 0.001 less than the model in 4c where we include Run Time. All else equal, if one model has fewer predictors and a more-or-less similar R-square value. Thus, removing Run Time is a good idea here, in my opinion."
   ]
  },
  {
   "cell_type": "markdown",
   "id": "fc06c7aa",
   "metadata": {},
   "source": [
    "# Problem 5 Tasks"
   ]
  },
  {
   "cell_type": "code",
   "execution_count": 87,
   "id": "f933139d",
   "metadata": {
    "collapsed": true
   },
   "outputs": [
    {
     "name": "stdout",
     "output_type": "stream",
     "text": [
      "<class 'pandas.core.frame.DataFrame'>\n",
      "RangeIndex: 426 entries, 0 to 425\n",
      "Data columns (total 18 columns):\n",
      " #   Column          Non-Null Count  Dtype  \n",
      "---  ------          --------------  -----  \n",
      " 0   MovieID         426 non-null    int64  \n",
      " 1   Budget          426 non-null    float64\n",
      " 2   MarketingCost   426 non-null    float64\n",
      " 3   ProductionCost  426 non-null    float64\n",
      " 4   ScreenCoverage  426 non-null    float64\n",
      " 5   RunTime         426 non-null    float64\n",
      " 6   ActorRating     426 non-null    float64\n",
      " 7   ActressRating   426 non-null    float64\n",
      " 8   DirectorRating  426 non-null    float64\n",
      " 9   ProducerRating  426 non-null    float64\n",
      " 10  CriticRating    426 non-null    float64\n",
      " 11  TrailerViews    426 non-null    int64  \n",
      " 12  3DOption        426 non-null    object \n",
      " 13  SocMedia        426 non-null    float64\n",
      " 14  Genre           426 non-null    object \n",
      " 15  ActorAvgAge     426 non-null    float64\n",
      " 16  Screens         426 non-null    int64  \n",
      " 17  BoxOffice       426 non-null    int64  \n",
      "dtypes: float64(12), int64(4), object(2)\n",
      "memory usage: 60.0+ KB\n"
     ]
    }
   ],
   "source": [
    "Move.info()"
   ]
  },
  {
   "cell_type": "markdown",
   "id": "8e813b99",
   "metadata": {},
   "source": [
    "#### Note: the above cell is for my personal reference: knowing which variables to put into Move.drop() below was important."
   ]
  },
  {
   "cell_type": "markdown",
   "id": "5955e2a3",
   "metadata": {},
   "source": [
    "### 5a."
   ]
  },
  {
   "cell_type": "code",
   "execution_count": 53,
   "id": "c30390d4",
   "metadata": {},
   "outputs": [
    {
     "name": "stdout",
     "output_type": "stream",
     "text": [
      "   BoxOffice    Budget  ProductionCost  ScreenCoverage  DirectorRating  \\\n",
      "0      53200  36594.01           65.57           0.498            6.01   \n",
      "1      41300  33501.50           92.40           0.343            8.59   \n",
      "2      62200  36484.81           62.91           0.542            8.34   \n",
      "3      68400  40799.79           59.05           0.589            6.83   \n",
      "4      53600  37380.01           69.04           0.525            7.49   \n",
      "\n",
      "   CriticRating  TrailerViews  \n",
      "0          7.61        452494  \n",
      "1          8.08        462502  \n",
      "2          7.48        469258  \n",
      "3          8.12        506693  \n",
      "4          8.28        538952  \n"
     ]
    }
   ],
   "source": [
    "X = Move.drop([\"BoxOffice\", \"MovieID\", \"MarketingCost\", \"RunTime\", \"ActorRating\", \"ActressRating\", \"ProducerRating\", \"3DOption\", \"SocMedia\", \"Genre\", \"ActorAvgAge\", \"Screens\"], axis=1)\n",
    "y = Move[\"BoxOffice\"]\n",
    "print(pd.concat([y, X],axis=1).head())"
   ]
  },
  {
   "cell_type": "markdown",
   "id": "6031d04a",
   "metadata": {},
   "source": [
    "#### Something I learned: data.drop() needs to have the variables you DON'T want in the model."
   ]
  },
  {
   "cell_type": "code",
   "execution_count": 54,
   "id": "2520bc8b",
   "metadata": {},
   "outputs": [],
   "source": [
    "from sklearn.model_selection import train_test_split\n",
    "X_train, X_test, y_train, y_test = train_test_split(X, y, test_size = 0.30, random_state=3732)"
   ]
  },
  {
   "cell_type": "code",
   "execution_count": 55,
   "id": "5b97ce12",
   "metadata": {},
   "outputs": [
    {
     "name": "stdout",
     "output_type": "stream",
     "text": [
      "       Budget  ProductionCost  ScreenCoverage  DirectorRating  CriticRating  \\\n",
      "146  35019.49           73.12           0.516            9.17          6.38   \n",
      "274  34171.65           91.46           0.221            8.93          7.17   \n",
      "166  31357.46           91.05           0.272            8.66          7.35   \n",
      "52   35848.20           91.03           0.363            9.53          7.61   \n",
      "195  35583.46           75.31           0.410            8.73          8.28   \n",
      "\n",
      "     TrailerViews  \n",
      "146        443673  \n",
      "274        359958  \n",
      "166        254305  \n",
      "52         381020  \n",
      "195        419493   \n",
      "\n",
      "        Budget  ProductionCost  ScreenCoverage  DirectorRating  CriticRating  \\\n",
      "399  42753.88           61.74           0.599            7.72          8.26   \n",
      "375  33978.87           74.34           0.375            8.20          7.07   \n",
      "66   31895.84           81.97           0.496            8.76          8.52   \n",
      "98   33031.46           93.96           0.400            9.13          7.65   \n",
      "77   34856.82           90.00           0.314            8.20          6.93   \n",
      "\n",
      "     TrailerViews  \n",
      "399        492408  \n",
      "375        437540  \n",
      "66         410021  \n",
      "98         455120  \n",
      "77         464963  \n"
     ]
    }
   ],
   "source": [
    "print(X_train.head() ,\"\\n\\n\", X_test.head())"
   ]
  },
  {
   "cell_type": "markdown",
   "id": "22bfc462",
   "metadata": {},
   "source": [
    "### 5b."
   ]
  },
  {
   "cell_type": "code",
   "execution_count": 85,
   "id": "0121ece4",
   "metadata": {
    "scrolled": false
   },
   "outputs": [
    {
     "name": "stdout",
     "output_type": "stream",
     "text": [
      "1.0\n"
     ]
    },
    {
     "data": {
      "text/plain": [
       "<Axes: xlabel='BoxOffice'>"
      ]
     },
     "execution_count": 85,
     "metadata": {},
     "output_type": "execute_result"
    },
    {
     "data": {
      "image/png": "[encoded data removed]",
      "text/plain": [
       "<Figure size 640x480 with 1 Axes>"
      ]
     },
     "metadata": {},
     "output_type": "display_data"
    }
   ],
   "source": [
    "from sklearn.tree import DecisionTreeRegressor\n",
    "from sklearn import metrics\n",
    "\n",
    "model5b = DecisionTreeRegressor(random_state=3732)\n",
    "\n",
    "model5b.fit(X_test, y_test)\n",
    "\n",
    "pred = model5b.predict(X_test)\n",
    "\n",
    "print(metrics.r2_score(y_test, pred))\n",
    "sns.scatterplot (x = y_test, y = pred)"
   ]
  },
  {
   "cell_type": "markdown",
   "id": "c2a422b6",
   "metadata": {},
   "source": [
    "#### Well...it appears that we have the EXTREMELY unlikely case of an R-square of 1...so, this is probably overfitted.\n",
    "\n",
    "#### I also went ahead and made a plot because I was skeptical of this. Seeing the plot definitely makes me think that's correct, though. "
   ]
  },
  {
   "cell_type": "code",
   "execution_count": 86,
   "id": "36725728",
   "metadata": {},
   "outputs": [
    {
     "name": "stdout",
     "output_type": "stream",
     "text": [
      "[ 71400.  36100.  43400.  54900.  41900.  53900.  46100.  12200.  43400.\n",
      "  72000.  98400.  25500.  36400. 102400.  86300.  33500.  78400.  61300.\n",
      "  29200.  34000.  41800.  25400.  23400.  43200.  44400.  55200.  35500.\n",
      "  44000. 105300.  96700.  82900.  45200.  35900.  47500.  68800.  30000.\n",
      "  43500. 105100.  39200.  43600.  38100.  72800.  39900.  37600.  40700.\n",
      "  62100.  31900.  25700.  42600.  31700.  43000.  69500.  76400.  25900.\n",
      "  41800.  33600. 102000.  44500.  66900.  17700.  52800.  18900.  27300.\n",
      "  43300.  34800.  54200.  46700.  22100.  53700.  49400.  89100.  40400.\n",
      "  41200.  49200.  43500.  27100.  37800.  87400.  51400.  47800.  62600.\n",
      "  22500.  81200.  41900.  47000.  31700.  43500.  42800.  48500.  43200.\n",
      "  36500.  68400.  56700.  67300.  21300.  41700.  33600.  12500.  46900.\n",
      "  45900.  56700.  80000.  44700.  44600.  51500.  23900.  42700.  47300.\n",
      "  36400.  42800.  30500.  32800.  63400. 105400.  32300.  33600.  37900.\n",
      "  35100.  65000.  43300.  33100.  61500.  50900.  53200.  55900.  36400.\n",
      "  33300.  25400.]\n"
     ]
    }
   ],
   "source": [
    "print(pred)"
   ]
  },
  {
   "cell_type": "markdown",
   "id": "9b486641",
   "metadata": {},
   "source": [
    "#### The above print statement is all of the predicted values based on the x_test data."
   ]
  },
  {
   "cell_type": "markdown",
   "id": "494a71ec",
   "metadata": {},
   "source": [
    "### 5c."
   ]
  },
  {
   "cell_type": "code",
   "execution_count": 74,
   "id": "416ceb13",
   "metadata": {},
   "outputs": [
    {
     "data": {
      "image/png": "[encoded data removed]",
      "text/plain": [
       "<Figure size 2880x1440 with 1 Axes>"
      ]
     },
     "metadata": {},
     "output_type": "display_data"
    }
   ],
   "source": [
    "import matplotlib.pyplot as plt\n",
    "from sklearn.tree import plot_tree\n",
    "\n",
    "model_5c = DecisionTreeRegressor(max_depth = 3, min_samples_split = 4, random_state=3732)\n",
    "model_5c.fit(X_train, y_train)\n",
    "\n",
    "from sklearn.tree import plot_tree\n",
    "plt.figure(figsize = (16, 8), dpi = 180)\n",
    "plot_tree(model_5c, feature_names = X.columns)\n",
    "plt.show()"
   ]
  },
  {
   "cell_type": "markdown",
   "id": "23562dee",
   "metadata": {},
   "source": [
    "### 5d."
   ]
  },
  {
   "cell_type": "code",
   "execution_count": 75,
   "id": "b3ff6581",
   "metadata": {},
   "outputs": [
    {
     "name": "stdout",
     "output_type": "stream",
     "text": [
      "0.6608891302465321\n"
     ]
    }
   ],
   "source": [
    "pred2 = model_5c.predict(X_test)\n",
    "\n",
    "print(metrics.r2_score(y_test, pred2))"
   ]
  },
  {
   "cell_type": "markdown",
   "id": "ce30bc5c",
   "metadata": {},
   "source": [
    "#### Well, considering that the R^2 from 5b was a very unrealistic 1.0, which would indicate perfect correlation... yes, I definitely think that was overfitted! An R^2 of  ~ 0.661 here for 5c seems far more realistic!"
   ]
  }
 ],
 "metadata": {
  "kernelspec": {
   "display_name": "Python 3 (ipykernel)",
   "language": "python",
   "name": "python3"
  },
  "language_info": {
   "codemirror_mode": {
    "name": "ipython",
    "version": 3
   },
   "file_extension": ".py",
   "mimetype": "text/x-python",
   "name": "python",
   "nbconvert_exporter": "python",
   "pygments_lexer": "ipython3",
   "version": "3.10.9"
  }
 },
 "nbformat": 4,
 "nbformat_minor": 5
}
