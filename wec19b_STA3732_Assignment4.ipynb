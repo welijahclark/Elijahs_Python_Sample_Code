{
 "cells": [
  {
   "cell_type": "markdown",
   "id": "f52b727f",
   "metadata": {},
   "source": [
    "#### wec19 STA 3732 Assignment 4 Notebook"
   ]
  },
  {
   "cell_type": "markdown",
   "id": "e8540005",
   "metadata": {},
   "source": [
    "# Problem 1 Tasks"
   ]
  },
  {
   "cell_type": "markdown",
   "id": "e3f39bb0",
   "metadata": {},
   "source": [
    "### 1a."
   ]
  },
  {
   "cell_type": "markdown",
   "id": "cbef1bc6",
   "metadata": {},
   "source": [
    "## SUV Hybrids\n",
    "\n",
    "1. Hyundai\n",
    "    1. Santa Fe\n",
    "    2. Tucson\n",
    "2. Ford\n",
    "    1. Escape\n",
    "    2. Explorer\n",
    "3. Honda\n",
    "    1. CR-V\n",
    "4. Toyota\n",
    "    1. RAV4\n",
    "    2. Highlander\n",
    "    3. Venza"
   ]
  },
  {
   "cell_type": "markdown",
   "id": "353c4711",
   "metadata": {},
   "source": [
    "### 1b."
   ]
  },
  {
   "cell_type": "markdown",
   "id": "1dae8d81",
   "metadata": {},
   "source": [
    "## *SUV Hybrids*\n",
    "\n",
    "1. Hyundai\n",
    "    1. **Santa Fe**\n",
    "    2. **Tucson**\n",
    "2. Ford\n",
    "    1. **Escape**\n",
    "    2. **Explorer**\n",
    "3. Honda\n",
    "    1. **CR-V**\n",
    "4. Toyota\n",
    "    1. **RAV4**\n",
    "    2. **Highlander**\n",
    "    3. **Venza**"
   ]
  },
  {
   "cell_type": "markdown",
   "id": "b4c56d4a",
   "metadata": {},
   "source": [
    "### 1c."
   ]
  },
  {
   "cell_type": "markdown",
   "id": "05b53f95",
   "metadata": {},
   "source": [
    "$Y = \\beta_0 + \\beta_1X_1 + \\beta_2X_2 + \\beta_3X_1X_2 + \\beta_4X_1^2 + \\beta_5X_2^2 + \\epsilon $"
   ]
  },
  {
   "cell_type": "markdown",
   "id": "45705440",
   "metadata": {},
   "source": [
    "#### Side note; I found out that regular Y does NOT need a slash in front of it in this LATEX-like format."
   ]
  },
  {
   "cell_type": "markdown",
   "id": "0d0bf33f",
   "metadata": {},
   "source": [
    "### 1d."
   ]
  },
  {
   "cell_type": "markdown",
   "id": "4293fc8c",
   "metadata": {},
   "source": [
    "$ z = \\frac{x - \\bar x}{\\hat \\sigma} $"
   ]
  },
  {
   "cell_type": "markdown",
   "id": "777da35c",
   "metadata": {},
   "source": [
    "#### In order to get a hat above the sigma, there needs to be a space between \\hat and \\sigma"
   ]
  },
  {
   "cell_type": "markdown",
   "id": "a040c77b",
   "metadata": {},
   "source": [
    "### 1e."
   ]
  },
  {
   "cell_type": "code",
   "execution_count": 59,
   "id": "f45f83e3",
   "metadata": {
    "scrolled": true
   },
   "outputs": [
    {
     "name": "stdout",
     "output_type": "stream",
     "text": [
      "Monty Python's Flying Circus\n"
     ]
    }
   ],
   "source": [
    "x = \"Flying\"\n",
    "y = \" Circus\"\n",
    "\n",
    "print(\"Monty Python's\", x+y)"
   ]
  },
  {
   "cell_type": "markdown",
   "id": "88dda830",
   "metadata": {},
   "source": [
    "#### Note; I added a space in front of \"Circus\" in order to have proper kerning. If there's no space, we get \"FlyingCircus\" instead. I have demonstrated this below."
   ]
  },
  {
   "cell_type": "code",
   "execution_count": 60,
   "id": "0d960d24",
   "metadata": {},
   "outputs": [
    {
     "name": "stdout",
     "output_type": "stream",
     "text": [
      "Monty Python's FlyingCircus\n"
     ]
    }
   ],
   "source": [
    "x = \"Flying\"\n",
    "y = \"Circus\"\n",
    "\n",
    "print(\"Monty Python's\", x+y)"
   ]
  },
  {
   "cell_type": "markdown",
   "id": "b772580a",
   "metadata": {},
   "source": [
    "### 1f."
   ]
  },
  {
   "cell_type": "code",
   "execution_count": 15,
   "id": "5d494e9c",
   "metadata": {},
   "outputs": [
    {
     "name": "stdout",
     "output_type": "stream",
     "text": [
      "-2.1\n"
     ]
    }
   ],
   "source": [
    "z = (3.7-10)/3\n",
    "print(z)"
   ]
  },
  {
   "cell_type": "markdown",
   "id": "a02f4052",
   "metadata": {},
   "source": [
    "### 1g."
   ]
  },
  {
   "cell_type": "code",
   "execution_count": 18,
   "id": "66b2311f",
   "metadata": {},
   "outputs": [
    {
     "name": "stdout",
     "output_type": "stream",
     "text": [
      "16\n"
     ]
    }
   ],
   "source": [
    "G_Answer = (11 % 3)**4\n",
    "print(G_Answer)"
   ]
  },
  {
   "cell_type": "markdown",
   "id": "ab2c8157",
   "metadata": {},
   "source": [
    "# Problem 2 Tasks"
   ]
  },
  {
   "cell_type": "markdown",
   "id": "10f94bff",
   "metadata": {},
   "source": [
    "### 2a."
   ]
  },
  {
   "cell_type": "code",
   "execution_count": 21,
   "id": "92eb5e97",
   "metadata": {},
   "outputs": [
    {
     "data": {
      "text/plain": [
       "True"
      ]
     },
     "execution_count": 21,
     "metadata": {},
     "output_type": "execute_result"
    }
   ],
   "source": [
    "two_a = 11.0\n",
    "isinstance(two_a, float)"
   ]
  },
  {
   "cell_type": "code",
   "execution_count": 26,
   "id": "75c41527",
   "metadata": {},
   "outputs": [
    {
     "data": {
      "text/plain": [
       "int"
      ]
     },
     "execution_count": 26,
     "metadata": {},
     "output_type": "execute_result"
    }
   ],
   "source": [
    "two_a_two = int(11.0)\n",
    "type(two_a_two)"
   ]
  },
  {
   "cell_type": "markdown",
   "id": "ed2161d6",
   "metadata": {},
   "source": [
    "### 2b."
   ]
  },
  {
   "cell_type": "code",
   "execution_count": 29,
   "id": "c277bb23",
   "metadata": {},
   "outputs": [
    {
     "data": {
      "text/plain": [
       "False"
      ]
     },
     "execution_count": 29,
     "metadata": {},
     "output_type": "execute_result"
    }
   ],
   "source": [
    "((12-3)/3) == 2 "
   ]
  },
  {
   "cell_type": "code",
   "execution_count": 33,
   "id": "5c02bf9c",
   "metadata": {
    "scrolled": true
   },
   "outputs": [
    {
     "data": {
      "text/plain": [
       "True"
      ]
     },
     "execution_count": 33,
     "metadata": {},
     "output_type": "execute_result"
    }
   ],
   "source": [
    "((12-3)/3) != 2 "
   ]
  },
  {
   "cell_type": "markdown",
   "id": "5b27e244",
   "metadata": {},
   "source": [
    "#### Note: The above two cells use == and !- to show that this expression does not equal 2 via Booleans."
   ]
  },
  {
   "cell_type": "markdown",
   "id": "6056b76b",
   "metadata": {},
   "source": [
    "### 2c."
   ]
  },
  {
   "cell_type": "code",
   "execution_count": 35,
   "id": "2db1d4df",
   "metadata": {},
   "outputs": [
    {
     "name": "stdout",
     "output_type": "stream",
     "text": [
      "3.0\n",
      "5\n",
      "8.0\n",
      "<class 'float'>\n",
      "<class 'str'>\n"
     ]
    }
   ],
   "source": [
    "A = 3.0\n",
    "B = 5\n",
    "C = 15.5\n",
    "D = \"Stats\"\n",
    "\n",
    "print(A)\n",
    "print(B)\n",
    "print(A+B)\n",
    "print(type(C))\n",
    "print(type(D))"
   ]
  },
  {
   "cell_type": "markdown",
   "id": "959876d6",
   "metadata": {},
   "source": [
    "#### Note: I nested the type() function inside of the print() function above. This will print that C is a float and that D is a string simultaneously. For some reason, only using type(C) and type(D) will only display one type of data."
   ]
  },
  {
   "cell_type": "markdown",
   "id": "60821402",
   "metadata": {},
   "source": [
    "### 2d."
   ]
  },
  {
   "cell_type": "code",
   "execution_count": 38,
   "id": "3a1a1f48",
   "metadata": {},
   "outputs": [
    {
     "name": "stdout",
     "output_type": "stream",
     "text": [
      "STATISTICS\n",
      "statistics\n"
     ]
    }
   ],
   "source": [
    "a = \"STATISTICS\"\n",
    "b = a.lower()\n",
    "print(a)\n",
    "print(b)"
   ]
  },
  {
   "cell_type": "markdown",
   "id": "2ebac5fd",
   "metadata": {},
   "source": [
    "### 2e."
   ]
  },
  {
   "cell_type": "code",
   "execution_count": 41,
   "id": "58cfbdfc",
   "metadata": {},
   "outputs": [
    {
     "name": "stdout",
     "output_type": "stream",
     "text": [
      "statistic\n",
      "['s', 't', 'a', 't', 'i', 's', 't', 'i', 'c', 's']\n",
      "2\n",
      "3\n"
     ]
    }
   ],
   "source": [
    "k = \"statistic\"\n",
    "h = list(k)\n",
    "h.append(\"s\")\n",
    "print(k)\n",
    "print(h)\n",
    "print(k.count(\"s\"))\n",
    "print(h.count(\"s\"))"
   ]
  },
  {
   "cell_type": "markdown",
   "id": "720b5253",
   "metadata": {},
   "source": [
    "#### We can see that we have two instances of s in the first string, but three instances in the second list."
   ]
  },
  {
   "cell_type": "markdown",
   "id": "1957db47",
   "metadata": {},
   "source": [
    "### 2f."
   ]
  },
  {
   "cell_type": "code",
   "execution_count": 60,
   "id": "1e8047ee",
   "metadata": {},
   "outputs": [
    {
     "name": "stdout",
     "output_type": "stream",
     "text": [
      "[3, 5, 8]\n",
      "[2, 5, 13]\n",
      "[21, 13, 8, 5]\n"
     ]
    }
   ],
   "source": [
    "L = [1, 2, 3, 5, 8, 13, 21, 34]\n",
    "Slice_1 = L[2:5]\n",
    "print(Slice_1)\n",
    "Slice_2 = L[1:6:2]\n",
    "print(Slice_2)\n",
    "Slice_3 = L[6:2:-1]\n",
    "print(Slice_3)"
   ]
  },
  {
   "cell_type": "markdown",
   "id": "7c0ae71d",
   "metadata": {},
   "source": [
    "#### The assignment said we *may* use three separate cell codes, but not that we *have* to. As I did it in one cell, I am keeping it this way.\n",
    "\n",
    "#### Above, Slice_1 shows [3, 5, 8], Slice_2 shows [2, 5, 13], and Slice_3 shows [21, 13, 8, 5], ask asked."
   ]
  },
  {
   "cell_type": "markdown",
   "id": "bdae445b",
   "metadata": {},
   "source": [
    "### 2g."
   ]
  },
  {
   "cell_type": "code",
   "execution_count": 23,
   "id": "93532d98",
   "metadata": {
    "scrolled": true
   },
   "outputs": [
    {
     "name": "stdout",
     "output_type": "stream",
     "text": [
      "The length of this tuple is 8\n",
      "The maximum value in this tuple is 19\n",
      "The sum of all items in this tuple is 77\n"
     ]
    }
   ],
   "source": [
    "tuple_time = (2, 3, 5, 7, 11, 13, 17, 19)\n",
    "print (\"The length of this tuple is\", len(tuple_time))\n",
    "print (\"The maximum value in this tuple is\", max(tuple_time))\n",
    "print (\"The sum of all items in this tuple is\", sum(tuple_time))"
   ]
  },
  {
   "cell_type": "markdown",
   "id": "a9573d7a",
   "metadata": {},
   "source": [
    "#### My answers are outlined in the above print statements. (I decided to add a little bit of extra concatenation practice while I was at it.)"
   ]
  },
  {
   "cell_type": "markdown",
   "id": "e39c2e95",
   "metadata": {},
   "source": [
    "### 2h."
   ]
  },
  {
   "cell_type": "code",
   "execution_count": 24,
   "id": "9462ea0d",
   "metadata": {
    "scrolled": false
   },
   "outputs": [
    {
     "name": "stdout",
     "output_type": "stream",
     "text": [
      "{'Game': ['Candyland', 'Scrabble'], 'Time': [25, 135], 'Difficulty': ['easy', 'moderate']}\n",
      "       \n",
      "{'Game': ['Candyland', 'Scrabble'], 'Time': [25, 135], 'Difficulty': ['easy', 'moderate'], 'Year': [1948, 1931]}\n",
      "       \n"
     ]
    },
    {
     "data": {
      "text/plain": [
       "['Candyland', 'Scrabble']"
      ]
     },
     "execution_count": 24,
     "metadata": {},
     "output_type": "execute_result"
    }
   ],
   "source": [
    "wec_dict = { \"Game\" : ['Candyland', 'Scrabble'],\n",
    "             \"Time\" : [25, 135],\n",
    "             \"Difficulty\" : ['easy', 'moderate']\n",
    "           }\n",
    "print(wec_dict)\n",
    "wec_dict[\"Year\"] = [1948, 1931]\n",
    "\n",
    "\n",
    "#Note: This is just a line for graphical leading. I would like to optimize the typographical layout of the results here. \n",
    "print(\"       \")\n",
    "\n",
    "print(wec_dict)\n",
    "\n",
    "#Note: This is just a line for graphical leading. I would like to optimize the typographical layout of the results here. \n",
    "print(\"       \")\n",
    "\n",
    "wec_dict.get(\"Game\")"
   ]
  },
  {
   "cell_type": "markdown",
   "id": "57d46f4e",
   "metadata": {},
   "source": [
    "#### In the above, the first two lines are the dictionary with years, followed by the dictionary without years. Further, next to the actual Out[24] line, we have just the game titles by themselves."
   ]
  },
  {
   "cell_type": "markdown",
   "id": "80028873",
   "metadata": {},
   "source": [
    "# Problem 3 Tasks"
   ]
  },
  {
   "cell_type": "code",
   "execution_count": 2,
   "id": "c129d8bb",
   "metadata": {},
   "outputs": [],
   "source": [
    "#Importing numpy library in advance here\n",
    "import numpy as np"
   ]
  },
  {
   "cell_type": "markdown",
   "id": "a76a7de7",
   "metadata": {},
   "source": [
    "### 3a."
   ]
  },
  {
   "cell_type": "code",
   "execution_count": 90,
   "id": "6a9ed2a3",
   "metadata": {},
   "outputs": [
    {
     "name": "stdout",
     "output_type": "stream",
     "text": [
      "[[ 5  6  3  2  4  7  8  9]\n",
      " [ 7  1  7  8  6  5  8 11]\n",
      " [ 5  6 -3  4  4  9  1  0]]\n",
      "       \n",
      "[[ 5  6  3  2  4  7]\n",
      " [ 8  9  7  1  7  8]\n",
      " [ 6  5  8 11  5  6]\n",
      " [-3  4  4  9  1  0]]\n"
     ]
    }
   ],
   "source": [
    "array_1 = [5,6,3,2,4,7,8,9]\n",
    "array_2 = [7,1,7,8,6,5,8,11]\n",
    "array_3 = [5,6,-3,4,4,9,1,0]\n",
    "\n",
    "array_a = np.array([array_1,array_2,array_3])\n",
    "print(array_a)\n",
    "\n",
    "#Note: This is just a line for graphical leading. I would like to optimize the typographical layout of the results here. \n",
    "print(\"       \")\n",
    "\n",
    "array_a2 = np.reshape(a=array_a, newshape = (4,6))\n",
    "print(array_a2)"
   ]
  },
  {
   "cell_type": "markdown",
   "id": "eca787d3",
   "metadata": {},
   "source": [
    "#### The first matrix is a 3 X 9 matrix, while the second one is the 4X6 matrix, as created by the np.reshape function"
   ]
  },
  {
   "cell_type": "markdown",
   "id": "0d68c78e",
   "metadata": {},
   "source": [
    "### 3b."
   ]
  },
  {
   "cell_type": "code",
   "execution_count": 52,
   "id": "a9a39bd8",
   "metadata": {},
   "outputs": [
    {
     "name": "stdout",
     "output_type": "stream",
     "text": [
      "[-3 -2 -1  0  1  2  3]\n",
      "       \n",
      "[[0.46778884 0.39395322 0.69717721 0.67710639 0.79579976 0.92840477\n",
      "  0.17114393]]\n",
      "       \n",
      "[[-3.46778884 -2.39395322 -1.69717721 -0.67710639  0.20420024  1.07159523\n",
      "   2.82885607]]\n"
     ]
    }
   ],
   "source": [
    "array_b1 = np.arange(-3, 4, 1)\n",
    "print(array_b1)\n",
    "\n",
    "#Note: This is just a line for graphical leading. I would like to optimize the typographical layout of the results here. \n",
    "print(\"       \")\n",
    "\n",
    "array_b2 = np.random.rand(1,7)\n",
    "print(array_b2)\n",
    "\n",
    "#Note: This is just a line for graphical leading. I would like to optimize the typographical layout of the results here. \n",
    "print(\"       \")\n",
    "\n",
    "array_b3 = array_b - array_b2\n",
    "print(array_b3)"
   ]
  },
  {
   "cell_type": "markdown",
   "id": "44825426",
   "metadata": {},
   "source": [
    "#### In the above, we had to make the first array, followed by the second array...and then we subtract the first array from the second array. Python carried this out with standard linear algebra rules for vectors, where [b_1] - [b_2] = [b_3]"
   ]
  },
  {
   "cell_type": "code",
   "execution_count": 49,
   "id": "83e79860",
   "metadata": {},
   "outputs": [
    {
     "name": "stdout",
     "output_type": "stream",
     "text": [
      "[-3 -2 -1  0  1  2  3]\n"
     ]
    }
   ],
   "source": [
    "array_b1 = np.arange(-3, 10, 1)\n",
    "print(array_b)"
   ]
  },
  {
   "cell_type": "markdown",
   "id": "0865663d",
   "metadata": {},
   "source": [
    "#### Additional side note: the first spot in the np.arange() statement places where to start."
   ]
  },
  {
   "cell_type": "markdown",
   "id": "db496a72",
   "metadata": {},
   "source": [
    "### 3c."
   ]
  },
  {
   "cell_type": "code",
   "execution_count": 113,
   "id": "69ef104e",
   "metadata": {
    "scrolled": true
   },
   "outputs": [
    {
     "name": "stdout",
     "output_type": "stream",
     "text": [
      "[[0.71949037 0.65517074 0.66006999 0.3043704 ]\n",
      " [0.76771862 0.49231868 0.41427423 0.80817385]\n",
      " [0.02826386 0.70802549 0.15875912 0.15808775]\n",
      " [0.13013698 0.53132933 0.69630419 0.76527946]\n",
      " [0.86112779 0.93939565 0.70549342 0.47499094]\n",
      " [0.818599   0.98946498 0.55845819 0.52801571]\n",
      " [0.21982166 0.51297859 0.64748879 0.4031042 ]\n",
      " [0.67152733 0.50204727 0.69859073 0.93780297]\n",
      " [0.20406333 0.60073101 0.27103313 0.66922489]]\n",
      "       \n",
      "[[0.69630419 0.76527946]\n",
      " [0.70549342 0.47499094]\n",
      " [0.55845819 0.52801571]\n",
      " [0.64748879 0.4031042 ]\n",
      " [0.69859073 0.93780297]]\n"
     ]
    }
   ],
   "source": [
    "array_c = np.random.rand(9,4)\n",
    "print(array_c)\n",
    "\n",
    "#Note: This is just a line for graphical leading. I would like to optimize the print results here. \n",
    "print(\"       \")\n",
    "\n",
    "array_c2 = array_c[3:8, 2:]\n",
    "print(array_c2)"
   ]
  },
  {
   "cell_type": "markdown",
   "id": "d1f85447",
   "metadata": {},
   "source": [
    "#### The first array is the full 9X4 matrix of randomly generated numbers, whereas the second array is the matrix of numbers that starts at the fourth row and ends at the eighth row, then eliminates the first two columns."
   ]
  },
  {
   "cell_type": "markdown",
   "id": "6bc8cb88",
   "metadata": {},
   "source": [
    "### 3d."
   ]
  },
  {
   "cell_type": "code",
   "execution_count": 19,
   "id": "c76f252b",
   "metadata": {
    "scrolled": true
   },
   "outputs": [
    {
     "name": "stdout",
     "output_type": "stream",
     "text": [
      "[-1.6  0.8  2.4 -0.2]\n"
     ]
    }
   ],
   "source": [
    "array_x = np.array([12, 24, 32, 19])\n",
    "array_mu = np.array([20, 20, 20, 20])\n",
    "array_sigma = np.array([5, 5, 5, 5])\n",
    "\n",
    "array_top = np.array(array_x - array_mu)\n",
    "array_zed = np.array(array_top/array_sigma)\n",
    "print(array_zed)"
   ]
  },
  {
   "cell_type": "markdown",
   "id": "6fec4645",
   "metadata": {},
   "source": [
    "#### Using standard linear algebra rules and noting that [20, 20, 20, 20] and [5, 5, 5, 5] are vectors for mean=20 and sigma=5, we can use this to manually calculate z. \n",
    "\n",
    "#### Note: I made another array to make (x - x_bar) one value, but it would be possible to do it without that step. I would just prefer to avoid extra parentheses in my code. To execute that, we could do so as follows..."
   ]
  },
  {
   "cell_type": "code",
   "execution_count": 53,
   "id": "de304b94",
   "metadata": {
    "scrolled": true
   },
   "outputs": [
    {
     "name": "stdout",
     "output_type": "stream",
     "text": [
      "[-1.6  0.8  2.4 -0.2]\n"
     ]
    }
   ],
   "source": [
    "array_x = np.array([12, 24, 32, 19])\n",
    "array_mu = np.array([20, 20, 20, 20])\n",
    "array_sigma = np.array([5, 5, 5, 5])\n",
    "\n",
    "array_zed = np.array((array_x - array_mu)/array_sigma)\n",
    "print(array_zed)"
   ]
  },
  {
   "cell_type": "markdown",
   "id": "b1248845",
   "metadata": {},
   "source": [
    "#### Using standard linear algebra rules and noting that [20, 20, 20, 20] and [5, 5, 5, 5] are vectors for mean=20 and sigma=5, we can use this to manually calculate z, as shown above."
   ]
  },
  {
   "cell_type": "markdown",
   "id": "0a09986e",
   "metadata": {},
   "source": [
    "### 3e."
   ]
  },
  {
   "cell_type": "code",
   "execution_count": 39,
   "id": "8c127233",
   "metadata": {
    "scrolled": true
   },
   "outputs": [
    {
     "name": "stdout",
     "output_type": "stream",
     "text": [
      "The mean of array one is 41.3387474150732\n",
      "The standard deviation of array two is 9.792677431118415\n",
      "       \n",
      "The mean of array two is 24.366263837481306\n",
      "The standard deviation of array two is 7.243699570203798\n",
      "       \n",
      "[56.19192106 59.38741712 57.37920361 63.94817821 40.27335316 59.04671501\n",
      " 63.59241976 64.08198997 62.86198563 54.96264813 51.42583853 50.84954826\n",
      " 74.54175785 59.72853079 54.59828235 69.6237168  73.54481867 82.54684767\n",
      " 69.42899582 32.94268991 67.57493193 78.10724844 77.27093493 93.61077974\n",
      " 61.35147482 61.55565412 68.6504397  60.89325876 62.58341931 71.93611611\n",
      " 66.84552638 57.13376808 67.9920829  88.02018849 56.45927838 73.61694309\n",
      " 50.56553006 70.90262379 72.00677532 84.08099194 49.73936546 89.38808164\n",
      " 74.10118609 68.02457941 68.7097118  64.41135503 59.42130275 78.80729729\n",
      " 66.71834456 73.81451402]\n",
      "       \n",
      "The mean of array e is 65.70501125255451\n",
      "The standard deviation of array e is 11.713495921232669\n"
     ]
    }
   ],
   "source": [
    "arr1 = np.random.normal(loc=40, scale = 10, size = 50) \n",
    "arr2 = np.random.normal(loc=25, scale = 10, size = 50) \n",
    "print(\"The mean of array one is\", np.mean(arr1))\n",
    "print(\"The standard deviation of array two is\", np.std(arr1))\n",
    "\n",
    "#Note: This is just a line for graphical leading. I would like to optimize the typographical layout of the results here. \n",
    "print(\"       \")\n",
    "\n",
    "print(\"The mean of array two is\", np.mean(arr2))\n",
    "print(\"The standard deviation of array two is\", np.std(arr2))\n",
    "\n",
    "#Note: This is just a line for graphical leading. I would like to optimize the typographical layout of the results here. \n",
    "print(\"       \")\n",
    "\n",
    "array_e = arr1 + arr2\n",
    "print(array_e)\n",
    "\n",
    "#Note: This is just a line for graphical leading. I would like to optimize the typographical layout of the results here. \n",
    "print(\"       \")\n",
    "\n",
    "print(\"The mean of array e is\", np.mean(array_e))\n",
    "print(\"The standard deviation of array e is\", np.std(array_e))"
   ]
  },
  {
   "cell_type": "markdown",
   "id": "d35a3cdf",
   "metadata": {},
   "source": [
    "#### The calculations are explained in the above print statements. Further, it should be noted that the mean and standard deviation of the summed array are larger because the numbers in the new array are larger as well. \n",
    "\n",
    "#### It can be further noted that the mean of the new array is the sum of the two previous means. However, the standard deviation doesn't increase significantly much more, and clearly does not have a 1:1 relation like the mean does."
   ]
  },
  {
   "cell_type": "markdown",
   "id": "2c232a35",
   "metadata": {},
   "source": [
    "### 3f."
   ]
  },
  {
   "cell_type": "code",
   "execution_count": 55,
   "id": "fe9c7fc7",
   "metadata": {},
   "outputs": [],
   "source": [
    "#importing Seaborn here\n",
    "import seaborn as sns"
   ]
  },
  {
   "cell_type": "code",
   "execution_count": 58,
   "id": "befc96db",
   "metadata": {},
   "outputs": [
    {
     "data": {
      "text/plain": [
       "<Axes: ylabel='Count'>"
      ]
     },
     "execution_count": 58,
     "metadata": {},
     "output_type": "execute_result"
    },
    {
     "data": {
      "image/png": "[encoded data removed]",
      "text/plain": [
       "<Figure size 640x480 with 1 Axes>"
      ]
     },
     "metadata": {},
     "output_type": "display_data"
    }
   ],
   "source": [
    "arr1 = np.random.normal(loc=40, scale = 10, size = 50) \n",
    "arr2 = np.random.normal(loc=25, scale = 10, size = 50) \n",
    "array_e = arr1 + arr2\n",
    "\n",
    "sns.histplot(array_e, kde = True)"
   ]
  },
  {
   "cell_type": "markdown",
   "id": "b5ee58f3",
   "metadata": {},
   "source": [
    "#### Yes, the above histogram looks normal to me. The bins don't seem to have any major outliers present, the two tails are tapered, and the tallest bin is in between 50-60ish."
   ]
  }
 ],
 "metadata": {
  "kernelspec": {
   "display_name": "Python 3 (ipykernel)",
   "language": "python",
   "name": "python3"
  },
  "language_info": {
   "codemirror_mode": {
    "name": "ipython",
    "version": 3
   },
   "file_extension": ".py",
   "mimetype": "text/x-python",
   "name": "python",
   "nbconvert_exporter": "python",
   "pygments_lexer": "ipython3",
   "version": "3.10.9"
  }
 },
 "nbformat": 4,
 "nbformat_minor": 5
}
